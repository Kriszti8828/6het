{
  "cells": [
    {
      "cell_type": "markdown",
      "metadata": {
        "id": "view-in-github",
        "colab_type": "text"
      },
      "source": [
        "<a href=\"https://colab.research.google.com/github/Kriszti8828/6het/blob/mergel/beadando_maxmin.ipynb\" target=\"_parent\"><img src=\"https://colab.research.google.com/assets/colab-badge.svg\" alt=\"Open In Colab\"/></a>"
      ]
    },
    {
      "cell_type": "markdown",
      "source": [
        "####Package-ek importálása"
      ],
      "metadata": {
        "id": "kkTHEjPHidl1"
      }
    },
    {
      "cell_type": "code",
      "execution_count": 2,
      "metadata": {
        "id": "ZAQtMr-4Emdy"
      },
      "outputs": [],
      "source": [
        "import csv\n",
        "import pandas as pd\n",
        "import numpy as np\n",
        "import matplotlib.pyplot as plt\n",
        "\n",
        "import seaborn as sns\n",
        "\n",
        "import scipy"
      ]
    },
    {
      "cell_type": "code",
      "execution_count": 3,
      "metadata": {
        "colab": {
          "base_uri": "https://localhost:8080/"
        },
        "id": "I8FzSgvMEuik",
        "outputId": "a99d9970-e7d7-4205-c4c2-a38d477a8bf0"
      },
      "outputs": [
        {
          "output_type": "stream",
          "name": "stdout",
          "text": [
            "Mounted at /content/drive\n"
          ]
        }
      ],
      "source": [
        "from google.colab import drive\n",
        "drive.mount('/content/drive')"
      ]
    },
    {
      "cell_type": "markdown",
      "source": [
        "###Adatbázisok importálása, tisztítás"
      ],
      "metadata": {
        "id": "EUOaTpI0ilRe"
      }
    },
    {
      "cell_type": "code",
      "execution_count": 4,
      "metadata": {
        "id": "P2tmEFEHEwmc"
      },
      "outputs": [],
      "source": [
        "#Adatbázisok importálása\n",
        "df_dbe=pd.read_csv('/content/drive/My Drive/numpu4/beadando_etfs/DBE.csv') #DBE\n",
        "df_pbj=pd.read_csv('/content/drive/My Drive/numpu4/beadando_etfs/PBJ.csv') #PBJ\n",
        "df_xlb=pd.read_csv('/content/drive/My Drive/numpu4/beadando_etfs/XLB.csv') #XLB\n",
        "df_bil=pd.read_csv('/content/drive/My Drive/numpu4/beadando_etfs/BIL.csv') #BIl\n",
        "df_qqq=pd.read_csv('/content/drive/My Drive/numpu4/beadando_etfs/QQQ.csv') #QQQ\n"
      ]
    },
    {
      "cell_type": "code",
      "execution_count": 5,
      "metadata": {
        "colab": {
          "base_uri": "https://localhost:8080/"
        },
        "id": "v8CEW9CKE6az",
        "outputId": "6dfffd7c-1c80-4c3a-ba3a-e78e567ec91c"
      },
      "outputs": [
        {
          "output_type": "stream",
          "name": "stderr",
          "text": [
            "<ipython-input-5-2226c5596487>:11: SettingWithCopyWarning: \n",
            "A value is trying to be set on a copy of a slice from a DataFrame\n",
            "\n",
            "See the caveats in the documentation: https://pandas.pydata.org/pandas-docs/stable/user_guide/indexing.html#returning-a-view-versus-a-copy\n",
            "  df_yc['DGS3MO'][i]=(df_yc['DGS3MO'][i-1]+df_yc['DGS3MO'][i+1])/2\n"
          ]
        }
      ],
      "source": [
        "#YC importálása\n",
        "df_yc=pd.read_csv('/content/drive/My Drive/numpu4/beadando_etfs/DGS3MO.csv')\n",
        "#df_yc.head()\n",
        "#az értelmezhetetlen karakter eliminációja, számmá alakítás\n",
        "df_yc['DGS3MO']=df_yc['DGS3MO'].replace('.',10000).astype(float)\n",
        "df_yc['DGS3MO']=df_yc['DGS3MO'].astype(float)\n",
        "\n",
        "#És a nagy szám helyett a két szomszédos elem átlagának a beírása\n",
        "for i in range(len(df_yc)):\n",
        "  if df_yc['DGS3MO'][i]==10000:\n",
        "    df_yc['DGS3MO'][i]=(df_yc['DGS3MO'][i-1]+df_yc['DGS3MO'][i+1])/2\n",
        "  if df_yc['DGS3MO'][i]==0:\n",
        "    df_yc['DGS3MO'][i]==df_yc['DGS3MO'][i-1]\n",
        "\n",
        "\n"
      ]
    },
    {
      "cell_type": "code",
      "execution_count": 6,
      "metadata": {
        "id": "seOXxiKnE-6J"
      },
      "outputs": [],
      "source": [
        "#A megfelelő hozamok közö dataframebe illesztése\n",
        "#Az üres df. létrehozása\n",
        "df_hozam=pd.DataFrame(columns={'Date','dbe','pbj','xlb','bil','qqq','yc'})\n",
        "#Feltöltés a dátummal\n",
        "df_hozam['Date']=df_qqq['Date'].copy()"
      ]
    },
    {
      "cell_type": "code",
      "execution_count": 7,
      "metadata": {
        "id": "yjf9oGTNFSWw"
      },
      "outputs": [],
      "source": [
        "#Feltöltés az ETF-ek adj. close adatával\n",
        "df_hozam['dbe']=df_dbe['Adj Close'].copy()\n",
        "df_hozam['pbj']=df_pbj['Adj Close'].copy()\n",
        "df_hozam['xlb']=df_xlb['Adj Close'].copy()\n",
        "df_hozam['bil']=df_bil['Adj Close'].copy()\n",
        "df_hozam['qqq']=df_qqq['Adj Close'].copy()\n",
        "\n",
        "#és a hozamgörbével\n",
        "df_hozam['yc']=df_yc['DGS3MO'].copy()\n"
      ]
    },
    {
      "cell_type": "code",
      "execution_count": 8,
      "metadata": {
        "id": "5KwOdSVYKDaX"
      },
      "outputs": [],
      "source": [
        "#A dátum szerint indexelünk\n",
        "df_hozam=df_hozam.set_index('Date')\n",
        "df_hozam.index = pd.to_datetime(df_hozam.index)"
      ]
    },
    {
      "cell_type": "code",
      "execution_count": 9,
      "metadata": {
        "colab": {
          "base_uri": "https://localhost:8080/",
          "height": 708
        },
        "id": "UrRpxVMYGXqz",
        "outputId": "2da15390-d77e-40c5-e84f-5bcb5283e6b0"
      },
      "outputs": [
        {
          "output_type": "execute_result",
          "data": {
            "text/plain": [
              "                  bil     yc        xlb        pbj        dbe        qqq\n",
              "Date                                                                    \n",
              "2008-01-02  85.052963  3.260  29.851694  13.911901  34.557426  44.299957\n",
              "2008-01-03  84.997299  3.240  30.393787  13.920213  34.330193  44.484505\n",
              "2008-01-04  84.978714  3.200  29.475840  13.595911  34.140842  42.533573\n",
              "2008-01-07  85.052963  3.270  29.071068  13.845374  33.336082  42.331459\n",
              "2008-01-08  84.997299  3.250  28.622932  13.687383  33.610649  41.232960\n",
              "2008-01-09  84.941589  3.220  28.803635  13.803798  33.307674  42.111755\n",
              "2008-01-10  84.978714  3.240  29.193937  14.011689  32.947899  42.173275\n",
              "2008-01-11  85.015854  3.090  28.897604  13.654121  32.559715  41.347191\n",
              "2008-01-14  85.090065  3.190  29.866159  13.670752  33.165657  42.067822\n",
              "2008-01-15  85.071541  3.170  29.049393  13.404653  32.521847  40.907822\n",
              "2008-01-16  85.071541  3.140  28.080832  13.321498  32.038994  40.468414\n",
              "2008-01-17  85.034409  3.070  26.693056  12.972244  31.783360  39.905983\n",
              "2008-01-18  85.090065  2.860  26.996632  13.063713  32.048458  39.853268\n",
              "2008-01-22  85.127197  2.605  26.750870  12.830883  31.669750  38.825066\n",
              "2008-01-23  85.220001  2.350  27.213476  13.080348  31.309973  38.675686\n",
              "2008-01-24  85.257111  2.210  27.647146  13.138554  31.878036  39.466595\n",
              "2008-01-25  85.164291  2.370  27.784485  13.005504  32.389297  38.658104\n",
              "2008-01-28  85.201424  2.300  28.333803  13.213395  32.616528  38.956886\n",
              "2008-01-29  85.275642  2.340  28.478374  13.105296  32.824814  39.027199\n",
              "2008-01-30  85.312752  2.280  28.369957  12.797620  32.881626  38.992043"
            ],
            "text/html": [
              "\n",
              "  <div id=\"df-276e6998-ae0e-4e24-8bdd-a7858a7f3b56\">\n",
              "    <div class=\"colab-df-container\">\n",
              "      <div>\n",
              "<style scoped>\n",
              "    .dataframe tbody tr th:only-of-type {\n",
              "        vertical-align: middle;\n",
              "    }\n",
              "\n",
              "    .dataframe tbody tr th {\n",
              "        vertical-align: top;\n",
              "    }\n",
              "\n",
              "    .dataframe thead th {\n",
              "        text-align: right;\n",
              "    }\n",
              "</style>\n",
              "<table border=\"1\" class=\"dataframe\">\n",
              "  <thead>\n",
              "    <tr style=\"text-align: right;\">\n",
              "      <th></th>\n",
              "      <th>bil</th>\n",
              "      <th>yc</th>\n",
              "      <th>xlb</th>\n",
              "      <th>pbj</th>\n",
              "      <th>dbe</th>\n",
              "      <th>qqq</th>\n",
              "    </tr>\n",
              "    <tr>\n",
              "      <th>Date</th>\n",
              "      <th></th>\n",
              "      <th></th>\n",
              "      <th></th>\n",
              "      <th></th>\n",
              "      <th></th>\n",
              "      <th></th>\n",
              "    </tr>\n",
              "  </thead>\n",
              "  <tbody>\n",
              "    <tr>\n",
              "      <th>2008-01-02</th>\n",
              "      <td>85.052963</td>\n",
              "      <td>3.260</td>\n",
              "      <td>29.851694</td>\n",
              "      <td>13.911901</td>\n",
              "      <td>34.557426</td>\n",
              "      <td>44.299957</td>\n",
              "    </tr>\n",
              "    <tr>\n",
              "      <th>2008-01-03</th>\n",
              "      <td>84.997299</td>\n",
              "      <td>3.240</td>\n",
              "      <td>30.393787</td>\n",
              "      <td>13.920213</td>\n",
              "      <td>34.330193</td>\n",
              "      <td>44.484505</td>\n",
              "    </tr>\n",
              "    <tr>\n",
              "      <th>2008-01-04</th>\n",
              "      <td>84.978714</td>\n",
              "      <td>3.200</td>\n",
              "      <td>29.475840</td>\n",
              "      <td>13.595911</td>\n",
              "      <td>34.140842</td>\n",
              "      <td>42.533573</td>\n",
              "    </tr>\n",
              "    <tr>\n",
              "      <th>2008-01-07</th>\n",
              "      <td>85.052963</td>\n",
              "      <td>3.270</td>\n",
              "      <td>29.071068</td>\n",
              "      <td>13.845374</td>\n",
              "      <td>33.336082</td>\n",
              "      <td>42.331459</td>\n",
              "    </tr>\n",
              "    <tr>\n",
              "      <th>2008-01-08</th>\n",
              "      <td>84.997299</td>\n",
              "      <td>3.250</td>\n",
              "      <td>28.622932</td>\n",
              "      <td>13.687383</td>\n",
              "      <td>33.610649</td>\n",
              "      <td>41.232960</td>\n",
              "    </tr>\n",
              "    <tr>\n",
              "      <th>2008-01-09</th>\n",
              "      <td>84.941589</td>\n",
              "      <td>3.220</td>\n",
              "      <td>28.803635</td>\n",
              "      <td>13.803798</td>\n",
              "      <td>33.307674</td>\n",
              "      <td>42.111755</td>\n",
              "    </tr>\n",
              "    <tr>\n",
              "      <th>2008-01-10</th>\n",
              "      <td>84.978714</td>\n",
              "      <td>3.240</td>\n",
              "      <td>29.193937</td>\n",
              "      <td>14.011689</td>\n",
              "      <td>32.947899</td>\n",
              "      <td>42.173275</td>\n",
              "    </tr>\n",
              "    <tr>\n",
              "      <th>2008-01-11</th>\n",
              "      <td>85.015854</td>\n",
              "      <td>3.090</td>\n",
              "      <td>28.897604</td>\n",
              "      <td>13.654121</td>\n",
              "      <td>32.559715</td>\n",
              "      <td>41.347191</td>\n",
              "    </tr>\n",
              "    <tr>\n",
              "      <th>2008-01-14</th>\n",
              "      <td>85.090065</td>\n",
              "      <td>3.190</td>\n",
              "      <td>29.866159</td>\n",
              "      <td>13.670752</td>\n",
              "      <td>33.165657</td>\n",
              "      <td>42.067822</td>\n",
              "    </tr>\n",
              "    <tr>\n",
              "      <th>2008-01-15</th>\n",
              "      <td>85.071541</td>\n",
              "      <td>3.170</td>\n",
              "      <td>29.049393</td>\n",
              "      <td>13.404653</td>\n",
              "      <td>32.521847</td>\n",
              "      <td>40.907822</td>\n",
              "    </tr>\n",
              "    <tr>\n",
              "      <th>2008-01-16</th>\n",
              "      <td>85.071541</td>\n",
              "      <td>3.140</td>\n",
              "      <td>28.080832</td>\n",
              "      <td>13.321498</td>\n",
              "      <td>32.038994</td>\n",
              "      <td>40.468414</td>\n",
              "    </tr>\n",
              "    <tr>\n",
              "      <th>2008-01-17</th>\n",
              "      <td>85.034409</td>\n",
              "      <td>3.070</td>\n",
              "      <td>26.693056</td>\n",
              "      <td>12.972244</td>\n",
              "      <td>31.783360</td>\n",
              "      <td>39.905983</td>\n",
              "    </tr>\n",
              "    <tr>\n",
              "      <th>2008-01-18</th>\n",
              "      <td>85.090065</td>\n",
              "      <td>2.860</td>\n",
              "      <td>26.996632</td>\n",
              "      <td>13.063713</td>\n",
              "      <td>32.048458</td>\n",
              "      <td>39.853268</td>\n",
              "    </tr>\n",
              "    <tr>\n",
              "      <th>2008-01-22</th>\n",
              "      <td>85.127197</td>\n",
              "      <td>2.605</td>\n",
              "      <td>26.750870</td>\n",
              "      <td>12.830883</td>\n",
              "      <td>31.669750</td>\n",
              "      <td>38.825066</td>\n",
              "    </tr>\n",
              "    <tr>\n",
              "      <th>2008-01-23</th>\n",
              "      <td>85.220001</td>\n",
              "      <td>2.350</td>\n",
              "      <td>27.213476</td>\n",
              "      <td>13.080348</td>\n",
              "      <td>31.309973</td>\n",
              "      <td>38.675686</td>\n",
              "    </tr>\n",
              "    <tr>\n",
              "      <th>2008-01-24</th>\n",
              "      <td>85.257111</td>\n",
              "      <td>2.210</td>\n",
              "      <td>27.647146</td>\n",
              "      <td>13.138554</td>\n",
              "      <td>31.878036</td>\n",
              "      <td>39.466595</td>\n",
              "    </tr>\n",
              "    <tr>\n",
              "      <th>2008-01-25</th>\n",
              "      <td>85.164291</td>\n",
              "      <td>2.370</td>\n",
              "      <td>27.784485</td>\n",
              "      <td>13.005504</td>\n",
              "      <td>32.389297</td>\n",
              "      <td>38.658104</td>\n",
              "    </tr>\n",
              "    <tr>\n",
              "      <th>2008-01-28</th>\n",
              "      <td>85.201424</td>\n",
              "      <td>2.300</td>\n",
              "      <td>28.333803</td>\n",
              "      <td>13.213395</td>\n",
              "      <td>32.616528</td>\n",
              "      <td>38.956886</td>\n",
              "    </tr>\n",
              "    <tr>\n",
              "      <th>2008-01-29</th>\n",
              "      <td>85.275642</td>\n",
              "      <td>2.340</td>\n",
              "      <td>28.478374</td>\n",
              "      <td>13.105296</td>\n",
              "      <td>32.824814</td>\n",
              "      <td>39.027199</td>\n",
              "    </tr>\n",
              "    <tr>\n",
              "      <th>2008-01-30</th>\n",
              "      <td>85.312752</td>\n",
              "      <td>2.280</td>\n",
              "      <td>28.369957</td>\n",
              "      <td>12.797620</td>\n",
              "      <td>32.881626</td>\n",
              "      <td>38.992043</td>\n",
              "    </tr>\n",
              "  </tbody>\n",
              "</table>\n",
              "</div>\n",
              "      <button class=\"colab-df-convert\" onclick=\"convertToInteractive('df-276e6998-ae0e-4e24-8bdd-a7858a7f3b56')\"\n",
              "              title=\"Convert this dataframe to an interactive table.\"\n",
              "              style=\"display:none;\">\n",
              "        \n",
              "  <svg xmlns=\"http://www.w3.org/2000/svg\" height=\"24px\"viewBox=\"0 0 24 24\"\n",
              "       width=\"24px\">\n",
              "    <path d=\"M0 0h24v24H0V0z\" fill=\"none\"/>\n",
              "    <path d=\"M18.56 5.44l.94 2.06.94-2.06 2.06-.94-2.06-.94-.94-2.06-.94 2.06-2.06.94zm-11 1L8.5 8.5l.94-2.06 2.06-.94-2.06-.94L8.5 2.5l-.94 2.06-2.06.94zm10 10l.94 2.06.94-2.06 2.06-.94-2.06-.94-.94-2.06-.94 2.06-2.06.94z\"/><path d=\"M17.41 7.96l-1.37-1.37c-.4-.4-.92-.59-1.43-.59-.52 0-1.04.2-1.43.59L10.3 9.45l-7.72 7.72c-.78.78-.78 2.05 0 2.83L4 21.41c.39.39.9.59 1.41.59.51 0 1.02-.2 1.41-.59l7.78-7.78 2.81-2.81c.8-.78.8-2.07 0-2.86zM5.41 20L4 18.59l7.72-7.72 1.47 1.35L5.41 20z\"/>\n",
              "  </svg>\n",
              "      </button>\n",
              "      \n",
              "  <style>\n",
              "    .colab-df-container {\n",
              "      display:flex;\n",
              "      flex-wrap:wrap;\n",
              "      gap: 12px;\n",
              "    }\n",
              "\n",
              "    .colab-df-convert {\n",
              "      background-color: #E8F0FE;\n",
              "      border: none;\n",
              "      border-radius: 50%;\n",
              "      cursor: pointer;\n",
              "      display: none;\n",
              "      fill: #1967D2;\n",
              "      height: 32px;\n",
              "      padding: 0 0 0 0;\n",
              "      width: 32px;\n",
              "    }\n",
              "\n",
              "    .colab-df-convert:hover {\n",
              "      background-color: #E2EBFA;\n",
              "      box-shadow: 0px 1px 2px rgba(60, 64, 67, 0.3), 0px 1px 3px 1px rgba(60, 64, 67, 0.15);\n",
              "      fill: #174EA6;\n",
              "    }\n",
              "\n",
              "    [theme=dark] .colab-df-convert {\n",
              "      background-color: #3B4455;\n",
              "      fill: #D2E3FC;\n",
              "    }\n",
              "\n",
              "    [theme=dark] .colab-df-convert:hover {\n",
              "      background-color: #434B5C;\n",
              "      box-shadow: 0px 1px 3px 1px rgba(0, 0, 0, 0.15);\n",
              "      filter: drop-shadow(0px 1px 2px rgba(0, 0, 0, 0.3));\n",
              "      fill: #FFFFFF;\n",
              "    }\n",
              "  </style>\n",
              "\n",
              "      <script>\n",
              "        const buttonEl =\n",
              "          document.querySelector('#df-276e6998-ae0e-4e24-8bdd-a7858a7f3b56 button.colab-df-convert');\n",
              "        buttonEl.style.display =\n",
              "          google.colab.kernel.accessAllowed ? 'block' : 'none';\n",
              "\n",
              "        async function convertToInteractive(key) {\n",
              "          const element = document.querySelector('#df-276e6998-ae0e-4e24-8bdd-a7858a7f3b56');\n",
              "          const dataTable =\n",
              "            await google.colab.kernel.invokeFunction('convertToInteractive',\n",
              "                                                     [key], {});\n",
              "          if (!dataTable) return;\n",
              "\n",
              "          const docLinkHtml = 'Like what you see? Visit the ' +\n",
              "            '<a target=\"_blank\" href=https://colab.research.google.com/notebooks/data_table.ipynb>data table notebook</a>'\n",
              "            + ' to learn more about interactive tables.';\n",
              "          element.innerHTML = '';\n",
              "          dataTable['output_type'] = 'display_data';\n",
              "          await google.colab.output.renderOutput(dataTable, element);\n",
              "          const docLink = document.createElement('div');\n",
              "          docLink.innerHTML = docLinkHtml;\n",
              "          element.appendChild(docLink);\n",
              "        }\n",
              "      </script>\n",
              "    </div>\n",
              "  </div>\n",
              "  "
            ]
          },
          "metadata": {},
          "execution_count": 9
        }
      ],
      "source": [
        "#Ellenőrzés\n",
        "df_hozam.head(20)"
      ]
    },
    {
      "cell_type": "code",
      "execution_count": 10,
      "metadata": {
        "id": "oUSxBuDIGadZ"
      },
      "outputs": [],
      "source": [
        "#a hozam kiszámítása\n",
        "df_ret=pd.DataFrame(columns={'dbe','pbj','xlb','bil','qqq','yc'})\n",
        "df_ret['dbe']=df_hozam['dbe']/df_hozam['dbe'].shift(1)-1\n",
        "df_ret['pbj']=df_hozam['pbj']/df_hozam['pbj'].shift(1)-1\n",
        "df_ret['xlb']=df_hozam['xlb']/df_hozam['xlb'].shift(1)-1\n",
        "df_ret['bil']=df_hozam['bil']/df_hozam['bil'].shift(1)-1\n",
        "df_ret['qqq']=df_hozam['qqq']/df_hozam['qqq'].shift(1)-1\n",
        "df_ret['yc']=(df_hozam['yc']+1)/(df_hozam['yc']+1).shift(1)-1\n"
      ]
    },
    {
      "cell_type": "code",
      "execution_count": 11,
      "metadata": {
        "id": "ui_SpHGGH9hx"
      },
      "outputs": [],
      "source": [
        "#A dátum szerint indexelünk\n",
        "df_ret.index = pd.to_datetime(df_ret.index)"
      ]
    },
    {
      "cell_type": "code",
      "execution_count": 12,
      "metadata": {
        "id": "NGwisK1ZHxJu",
        "colab": {
          "base_uri": "https://localhost:8080/",
          "height": 394
        },
        "outputId": "32a6fb75-06f1-4190-ea7b-a391a96baae6"
      },
      "outputs": [
        {
          "output_type": "execute_result",
          "data": {
            "text/plain": [
              "                 bil        yc       xlb       pbj       dbe       qqq\n",
              "Date                                                                  \n",
              "2008-01-02       NaN       NaN       NaN       NaN       NaN       NaN\n",
              "2008-01-03 -0.000654 -0.004695  0.018160  0.000597 -0.006576  0.004166\n",
              "2008-01-04 -0.000219 -0.009434 -0.030202 -0.023297 -0.005516 -0.043856\n",
              "2008-01-07  0.000874  0.016667 -0.013732  0.018348 -0.023572 -0.004752\n",
              "2008-01-08 -0.000654 -0.004684 -0.015415 -0.011411  0.008236 -0.025950\n",
              "2008-01-09 -0.000655 -0.007059  0.006313  0.008505 -0.009014  0.021313\n",
              "2008-01-10  0.000437  0.004739  0.013550  0.015060 -0.010802  0.001461\n",
              "2008-01-11  0.000437 -0.035377 -0.010150 -0.025519 -0.011782 -0.019588\n",
              "2008-01-14  0.000873  0.024450  0.033517  0.001218  0.018610  0.017429\n",
              "2008-01-15 -0.000218 -0.004773 -0.027348 -0.019465 -0.019412 -0.027575"
            ],
            "text/html": [
              "\n",
              "  <div id=\"df-6cb5cd70-093d-4df7-bce5-4d72bd2ff52e\">\n",
              "    <div class=\"colab-df-container\">\n",
              "      <div>\n",
              "<style scoped>\n",
              "    .dataframe tbody tr th:only-of-type {\n",
              "        vertical-align: middle;\n",
              "    }\n",
              "\n",
              "    .dataframe tbody tr th {\n",
              "        vertical-align: top;\n",
              "    }\n",
              "\n",
              "    .dataframe thead th {\n",
              "        text-align: right;\n",
              "    }\n",
              "</style>\n",
              "<table border=\"1\" class=\"dataframe\">\n",
              "  <thead>\n",
              "    <tr style=\"text-align: right;\">\n",
              "      <th></th>\n",
              "      <th>bil</th>\n",
              "      <th>yc</th>\n",
              "      <th>xlb</th>\n",
              "      <th>pbj</th>\n",
              "      <th>dbe</th>\n",
              "      <th>qqq</th>\n",
              "    </tr>\n",
              "    <tr>\n",
              "      <th>Date</th>\n",
              "      <th></th>\n",
              "      <th></th>\n",
              "      <th></th>\n",
              "      <th></th>\n",
              "      <th></th>\n",
              "      <th></th>\n",
              "    </tr>\n",
              "  </thead>\n",
              "  <tbody>\n",
              "    <tr>\n",
              "      <th>2008-01-02</th>\n",
              "      <td>NaN</td>\n",
              "      <td>NaN</td>\n",
              "      <td>NaN</td>\n",
              "      <td>NaN</td>\n",
              "      <td>NaN</td>\n",
              "      <td>NaN</td>\n",
              "    </tr>\n",
              "    <tr>\n",
              "      <th>2008-01-03</th>\n",
              "      <td>-0.000654</td>\n",
              "      <td>-0.004695</td>\n",
              "      <td>0.018160</td>\n",
              "      <td>0.000597</td>\n",
              "      <td>-0.006576</td>\n",
              "      <td>0.004166</td>\n",
              "    </tr>\n",
              "    <tr>\n",
              "      <th>2008-01-04</th>\n",
              "      <td>-0.000219</td>\n",
              "      <td>-0.009434</td>\n",
              "      <td>-0.030202</td>\n",
              "      <td>-0.023297</td>\n",
              "      <td>-0.005516</td>\n",
              "      <td>-0.043856</td>\n",
              "    </tr>\n",
              "    <tr>\n",
              "      <th>2008-01-07</th>\n",
              "      <td>0.000874</td>\n",
              "      <td>0.016667</td>\n",
              "      <td>-0.013732</td>\n",
              "      <td>0.018348</td>\n",
              "      <td>-0.023572</td>\n",
              "      <td>-0.004752</td>\n",
              "    </tr>\n",
              "    <tr>\n",
              "      <th>2008-01-08</th>\n",
              "      <td>-0.000654</td>\n",
              "      <td>-0.004684</td>\n",
              "      <td>-0.015415</td>\n",
              "      <td>-0.011411</td>\n",
              "      <td>0.008236</td>\n",
              "      <td>-0.025950</td>\n",
              "    </tr>\n",
              "    <tr>\n",
              "      <th>2008-01-09</th>\n",
              "      <td>-0.000655</td>\n",
              "      <td>-0.007059</td>\n",
              "      <td>0.006313</td>\n",
              "      <td>0.008505</td>\n",
              "      <td>-0.009014</td>\n",
              "      <td>0.021313</td>\n",
              "    </tr>\n",
              "    <tr>\n",
              "      <th>2008-01-10</th>\n",
              "      <td>0.000437</td>\n",
              "      <td>0.004739</td>\n",
              "      <td>0.013550</td>\n",
              "      <td>0.015060</td>\n",
              "      <td>-0.010802</td>\n",
              "      <td>0.001461</td>\n",
              "    </tr>\n",
              "    <tr>\n",
              "      <th>2008-01-11</th>\n",
              "      <td>0.000437</td>\n",
              "      <td>-0.035377</td>\n",
              "      <td>-0.010150</td>\n",
              "      <td>-0.025519</td>\n",
              "      <td>-0.011782</td>\n",
              "      <td>-0.019588</td>\n",
              "    </tr>\n",
              "    <tr>\n",
              "      <th>2008-01-14</th>\n",
              "      <td>0.000873</td>\n",
              "      <td>0.024450</td>\n",
              "      <td>0.033517</td>\n",
              "      <td>0.001218</td>\n",
              "      <td>0.018610</td>\n",
              "      <td>0.017429</td>\n",
              "    </tr>\n",
              "    <tr>\n",
              "      <th>2008-01-15</th>\n",
              "      <td>-0.000218</td>\n",
              "      <td>-0.004773</td>\n",
              "      <td>-0.027348</td>\n",
              "      <td>-0.019465</td>\n",
              "      <td>-0.019412</td>\n",
              "      <td>-0.027575</td>\n",
              "    </tr>\n",
              "  </tbody>\n",
              "</table>\n",
              "</div>\n",
              "      <button class=\"colab-df-convert\" onclick=\"convertToInteractive('df-6cb5cd70-093d-4df7-bce5-4d72bd2ff52e')\"\n",
              "              title=\"Convert this dataframe to an interactive table.\"\n",
              "              style=\"display:none;\">\n",
              "        \n",
              "  <svg xmlns=\"http://www.w3.org/2000/svg\" height=\"24px\"viewBox=\"0 0 24 24\"\n",
              "       width=\"24px\">\n",
              "    <path d=\"M0 0h24v24H0V0z\" fill=\"none\"/>\n",
              "    <path d=\"M18.56 5.44l.94 2.06.94-2.06 2.06-.94-2.06-.94-.94-2.06-.94 2.06-2.06.94zm-11 1L8.5 8.5l.94-2.06 2.06-.94-2.06-.94L8.5 2.5l-.94 2.06-2.06.94zm10 10l.94 2.06.94-2.06 2.06-.94-2.06-.94-.94-2.06-.94 2.06-2.06.94z\"/><path d=\"M17.41 7.96l-1.37-1.37c-.4-.4-.92-.59-1.43-.59-.52 0-1.04.2-1.43.59L10.3 9.45l-7.72 7.72c-.78.78-.78 2.05 0 2.83L4 21.41c.39.39.9.59 1.41.59.51 0 1.02-.2 1.41-.59l7.78-7.78 2.81-2.81c.8-.78.8-2.07 0-2.86zM5.41 20L4 18.59l7.72-7.72 1.47 1.35L5.41 20z\"/>\n",
              "  </svg>\n",
              "      </button>\n",
              "      \n",
              "  <style>\n",
              "    .colab-df-container {\n",
              "      display:flex;\n",
              "      flex-wrap:wrap;\n",
              "      gap: 12px;\n",
              "    }\n",
              "\n",
              "    .colab-df-convert {\n",
              "      background-color: #E8F0FE;\n",
              "      border: none;\n",
              "      border-radius: 50%;\n",
              "      cursor: pointer;\n",
              "      display: none;\n",
              "      fill: #1967D2;\n",
              "      height: 32px;\n",
              "      padding: 0 0 0 0;\n",
              "      width: 32px;\n",
              "    }\n",
              "\n",
              "    .colab-df-convert:hover {\n",
              "      background-color: #E2EBFA;\n",
              "      box-shadow: 0px 1px 2px rgba(60, 64, 67, 0.3), 0px 1px 3px 1px rgba(60, 64, 67, 0.15);\n",
              "      fill: #174EA6;\n",
              "    }\n",
              "\n",
              "    [theme=dark] .colab-df-convert {\n",
              "      background-color: #3B4455;\n",
              "      fill: #D2E3FC;\n",
              "    }\n",
              "\n",
              "    [theme=dark] .colab-df-convert:hover {\n",
              "      background-color: #434B5C;\n",
              "      box-shadow: 0px 1px 3px 1px rgba(0, 0, 0, 0.15);\n",
              "      filter: drop-shadow(0px 1px 2px rgba(0, 0, 0, 0.3));\n",
              "      fill: #FFFFFF;\n",
              "    }\n",
              "  </style>\n",
              "\n",
              "      <script>\n",
              "        const buttonEl =\n",
              "          document.querySelector('#df-6cb5cd70-093d-4df7-bce5-4d72bd2ff52e button.colab-df-convert');\n",
              "        buttonEl.style.display =\n",
              "          google.colab.kernel.accessAllowed ? 'block' : 'none';\n",
              "\n",
              "        async function convertToInteractive(key) {\n",
              "          const element = document.querySelector('#df-6cb5cd70-093d-4df7-bce5-4d72bd2ff52e');\n",
              "          const dataTable =\n",
              "            await google.colab.kernel.invokeFunction('convertToInteractive',\n",
              "                                                     [key], {});\n",
              "          if (!dataTable) return;\n",
              "\n",
              "          const docLinkHtml = 'Like what you see? Visit the ' +\n",
              "            '<a target=\"_blank\" href=https://colab.research.google.com/notebooks/data_table.ipynb>data table notebook</a>'\n",
              "            + ' to learn more about interactive tables.';\n",
              "          element.innerHTML = '';\n",
              "          dataTable['output_type'] = 'display_data';\n",
              "          await google.colab.output.renderOutput(dataTable, element);\n",
              "          const docLink = document.createElement('div');\n",
              "          docLink.innerHTML = docLinkHtml;\n",
              "          element.appendChild(docLink);\n",
              "        }\n",
              "      </script>\n",
              "    </div>\n",
              "  </div>\n",
              "  "
            ]
          },
          "metadata": {},
          "execution_count": 12
        }
      ],
      "source": [
        "#Ellenőrzés\n",
        "df_ret.head(10)"
      ]
    },
    {
      "cell_type": "code",
      "execution_count": 13,
      "metadata": {
        "id": "9jr149NGYvuA"
      },
      "outputs": [],
      "source": [
        "#A hozamgörbe manipulálása\n",
        "from math import nan\n",
        "#df_ret['yc'].plot()\n",
        "for i in range(len(df_ret['yc'])):\n",
        "  if df_ret['yc'][i]==np.NaN:\n",
        "    df_ret['yc'][i]=0\n",
        "  if df_ret['yc'][i]<-100:\n",
        "    df_ret['yc'][i]=0\n",
        "  if df_ret['yc'][i]>100:\n",
        "    df_ret['yc'][i]=0"
      ]
    },
    {
      "cell_type": "code",
      "execution_count": 14,
      "metadata": {
        "colab": {
          "base_uri": "https://localhost:8080/",
          "height": 288
        },
        "id": "wAhWtWZMaAdz",
        "outputId": "8c0a0dcb-c4d5-4c16-df86-5af4fec543d3"
      },
      "outputs": [
        {
          "output_type": "execute_result",
          "data": {
            "text/plain": [
              "<matplotlib.axes._subplots.AxesSubplot at 0x7fa769f8f190>"
            ]
          },
          "metadata": {},
          "execution_count": 14
        },
        {
          "output_type": "display_data",
          "data": {
            "text/plain": [
              "<Figure size 432x288 with 1 Axes>"
            ],
            "image/png": "[encoded data removed]"
          },
          "metadata": {
            "needs_background": "light"
          }
        }
      ],
      "source": [
        "#Ellenőző plot az etf-ekhez\n",
        "df_ret['xlb'].plot(linewidth=0.3)"
      ]
    },
    {
      "cell_type": "code",
      "execution_count": 15,
      "metadata": {
        "colab": {
          "base_uri": "https://localhost:8080/"
        },
        "id": "CBzuKFzAaiI4",
        "outputId": "44285355-f095-4ff2-c667-cf662bf6f470"
      },
      "outputs": [
        {
          "output_type": "stream",
          "name": "stdout",
          "text": [
            "-0.12107720415312563\n"
          ]
        }
      ],
      "source": [
        "print(df_ret['yc'][0:252*5].mean()*252)"
      ]
    },
    {
      "cell_type": "code",
      "execution_count": 16,
      "metadata": {
        "id": "E4RJhob9H0ko"
      },
      "outputs": [],
      "source": [
        "#A végtelen és a 0 adatok kezelése\n",
        "df_ret=df_ret.replace(np.inf,np.nan).astype(float)"
      ]
    },
    {
      "cell_type": "code",
      "execution_count": 17,
      "metadata": {
        "id": "InyT1xO1IkMA"
      },
      "outputs": [],
      "source": [
        "#Az yc nélküli hozamok, adatbázis\n",
        "df_hozam2=df_hozam.copy()\n",
        "#df_hozam2.head()\n",
        "df_hozam2=df_hozam2.drop(['yc'], axis=1)\n",
        "df_hozam_gsh=df_hozam2.copy() #Adatbázis a globális Sharpe-rátához\n",
        "df_hozam_lsh=df_hozam2.copy() #Adatbázis a csúszóablakos Sharpe-rátához"
      ]
    },
    {
      "cell_type": "markdown",
      "metadata": {
        "id": "Sir4wKyGImwz"
      },
      "source": [
        "###Sharpe ráta, globális"
      ]
    },
    {
      "cell_type": "markdown",
      "metadata": {
        "id": "IMP-pPm1G6yq"
      },
      "source": [
        "#####A 10-11. órán felépített kódokat használva:"
      ]
    },
    {
      "cell_type": "code",
      "execution_count": 18,
      "metadata": {
        "id": "v2sZMDAgORST"
      },
      "outputs": [],
      "source": [
        "def minden(price_df,w):\n",
        "  return_asset = price_df/price_df.shift(1)-1\n",
        "  mean_asset = return_asset.mean() * 252       #évestett átlag\n",
        "  std_asset = return_asset.std() * np.sqrt(252)  #évesített szórás\n",
        "  cov_asset = return_asset.cov() * 252\n",
        "  corr_asset = return_asset.corr()\n",
        "\n",
        "#Itt jön be a calc nasset mean és cov\n",
        "\n",
        "  #N eszköz átlagos hozama, a megfelelő súlyokkal\n",
        "  calc_nasset_mean=np.sum(w*mean_asset)    #2 vektor elemenkénti szorzata --> összeadjuk\n",
        "\n",
        "  #n eszköz kovarianciája a megfelelő súlyokkal\n",
        "  calc_nasset_cov=np.sqrt(np.dot(np.dot(w,cov_asset), w.transpose()))   #np.dot  mátrix szorzat\n",
        "\n",
        "  #A return és a szórás meghatározása\n",
        "  ret = calc_nasset_mean\n",
        "  std = calc_nasset_cov\n",
        "  #Kockázatmentes hozamgörbe  \n",
        "  \n",
        " \n",
        "  return ret, std\n"
      ]
    },
    {
      "cell_type": "code",
      "execution_count": 19,
      "metadata": {
        "id": "aB_78zgMG9kE"
      },
      "outputs": [],
      "source": [
        "ww=np.array([0,0,0,1,0])\n",
        "#A fenti függvény behívása\n",
        "rreturn, standev =minden(df_hozam_gsh, ww)\n"
      ]
    },
    {
      "cell_type": "code",
      "execution_count": 20,
      "metadata": {
        "colab": {
          "base_uri": "https://localhost:8080/"
        },
        "id": "qzY5iZr3R7JP",
        "outputId": "91b95b8c-d7d9-4414-eb32-55f5d61ff8cc"
      },
      "outputs": [
        {
          "output_type": "stream",
          "name": "stdout",
          "text": [
            "0.012790644955354324\n",
            "0.28684279735632917\n",
            "0.04459113170432933\n"
          ]
        }
      ],
      "source": [
        "#Teszt, vektorok\n",
        "print(rreturn)\n",
        "print(standev)\n",
        "print(rreturn/standev)"
      ]
    },
    {
      "cell_type": "code",
      "source": [
        "#Kockázatmentes hozam\n",
        "kockment=(df_ret['yc']).mean()*252"
      ],
      "metadata": {
        "id": "Yooq2ugieOH8"
      },
      "execution_count": 21,
      "outputs": []
    },
    {
      "cell_type": "markdown",
      "metadata": {
        "id": "cHPJQABRY7o9"
      },
      "source": [
        "#####Optimalizálás"
      ]
    },
    {
      "cell_type": "code",
      "execution_count": 33,
      "metadata": {
        "id": "14msritmY-FP"
      },
      "outputs": [],
      "source": [
        "#A célfüggvény\n",
        "def elsoopt(ww):\n",
        "  a1,a2=minden(df_hozam_gsh,ww)\n",
        "  Sh_rate=(a1-kockment)/a2\n",
        "  return Sh_rate\n"
      ]
    },
    {
      "cell_type": "code",
      "execution_count": 23,
      "metadata": {
        "id": "eIgMFMmdZfL-"
      },
      "outputs": [],
      "source": [
        "fun1 = lambda x: 100-elsoopt(x) #ide proba(x) is jöhet tesztelni"
      ]
    },
    {
      "cell_type": "code",
      "execution_count": 24,
      "metadata": {
        "id": "mfPTLiGbZuA5"
      },
      "outputs": [],
      "source": [
        "bounds=((0,None),(0,None),(0,None),(0,None),(0,None))\n",
        "cons=({'type': 'eq', 'fun': lambda ww: np.sum(ww)-1})"
      ]
    },
    {
      "cell_type": "code",
      "execution_count": 25,
      "metadata": {
        "id": "RldT6d4CZ0cL"
      },
      "outputs": [],
      "source": [
        "#Az optimalizálás (~3 min volt nekem)\n",
        "megoldas1_1=scipy.optimize.minimize(fun1, (0.5,0.2,0.1,0.0,0), method='SLSQP',\n",
        "                        bounds=bounds,\n",
        "                        constraints=cons)"
      ]
    },
    {
      "cell_type": "code",
      "execution_count": 26,
      "metadata": {
        "id": "LE8R6u0_Z_98",
        "colab": {
          "base_uri": "https://localhost:8080/"
        },
        "outputId": "9e816c1c-9fcf-4fc7-814a-b2be0548da1d"
      },
      "outputs": [
        {
          "output_type": "stream",
          "name": "stdout",
          "text": [
            "     fun: 99.4033740990157\n",
            "     jac: array([-0.02531147,  0.09346008, -0.07809734,  0.22012138, -0.07815456])\n",
            " message: 'Optimization terminated successfully'\n",
            "    nfev: 30\n",
            "     nit: 5\n",
            "    njev: 5\n",
            "  status: 0\n",
            " success: True\n",
            "       x: array([8.14581519e-18, 0.00000000e+00, 2.25732606e-01, 1.60570313e-17,\n",
            "       7.74267394e-01])\n"
          ]
        }
      ],
      "source": [
        "#Az optimalizálás eredménye\n",
        "print(megoldas1_1)"
      ]
    },
    {
      "cell_type": "code",
      "execution_count": 30,
      "metadata": {
        "id": "nuLRTG2Vaj9c",
        "colab": {
          "base_uri": "https://localhost:8080/"
        },
        "outputId": "1b9c1565-bdf9-4711-bba0-699787ee922a"
      },
      "outputs": [
        {
          "output_type": "stream",
          "name": "stdout",
          "text": [
            "0.6263418359194598\n",
            "[0.    0.    0.226 0.    0.774]\n",
            "1.0\n",
            "0.5966259009842957\n"
          ]
        }
      ],
      "source": [
        "#És az eredménnyel számolt hozam\n",
        "rreturn, standev=minden(df_hozam_gsh,megoldas1_1['x'])\n",
        "#A kapott Sharpe-ráta\n",
        "print((rreturn-0.01)/standev)\n",
        "#A kapott súlyok\n",
        "print(np.round(megoldas1_1['x'],3))\n",
        "#Ellenőrzés: az öszeg valóban 1\n",
        "print(sum(megoldas1_1['x']))\n",
        "#A kapott hozam\n",
        "print(elsoopt(megoldas1_1['x']))"
      ]
    },
    {
      "cell_type": "markdown",
      "metadata": {
        "id": "tfxTf4fmt-up"
      },
      "source": [
        "##Csúszóablakos Shapre ráta\n"
      ]
    },
    {
      "cell_type": "code",
      "execution_count": 28,
      "metadata": {
        "id": "4NfS2_12uGEi"
      },
      "outputs": [],
      "source": [
        "def masodikopt(start,stop): #A fenti függvény általánosítása az időablakokhoz\n",
        "#  start=5\n",
        "#  stop=25\n",
        "  megoldas1_1=[]\n",
        "  \n",
        "  for i in range(start,stop):\n",
        "    \n",
        "    kockment=(df_ret['yc'][(start+i):(start+i+5*252)]).mean()*252 #évesített, 5 éves ablakot néz\n",
        "    def celfv(ww):\n",
        "        a1,a2=minden(df_hozam_gsh[i:(i+5*252)],ww)\n",
        "        Sh_rate=(a1-kockment)/a2      \n",
        "        return Sh_rate\n",
        "\n",
        "    funa = lambda x: 100-celfv(x) #max: Szám-x akkor min., ha x max.\n",
        "    bounds=((0,None),(0,None),(0,None),(0,None),(0,None))\n",
        "    cons=({'type': 'eq', 'fun': lambda ww: np.sum(ww)-1})\n",
        "\n",
        "    megoldas1_a=scipy.optimize.minimize(funa, (0.5,0.2,0.1,0.0,0), method='SLSQP',\n",
        "                          bounds=bounds,\n",
        "                          constraints=cons)\n",
        "    megoldas1_1.append(megoldas1_a['x'])\n",
        "  #for i in len(megolda)\n",
        "  return megoldas1_1"
      ]
    },
    {
      "cell_type": "code",
      "execution_count": null,
      "metadata": {
        "id": "pK-YgaIyvzgC"
      },
      "outputs": [],
      "source": [
        "tesztsok=masodikopt(1,len(df_hozam2['bil']-5*252-1)) #A LE NE FUTTASD! #A futásidő ~8 perc\n",
        "#print(tesztsok)\n",
        "print(df_hozam_gsh.head(4))"
      ]
    },
    {
      "cell_type": "code",
      "execution_count": null,
      "metadata": {
        "id": "JzLmfgoMyf-s"
      },
      "outputs": [],
      "source": [
        "megoldas1_2=pd.DataFrame(columns={'x1','x2','x3','x4','x5'}) #A kapott megoldás táblázattá alakítása\n",
        "megoldas1_2['x1']=np.zeros(len(tesztsok))\n",
        "megoldas1_2['x2']=np.zeros(len(tesztsok))\n",
        "megoldas1_2['x3']=np.zeros(len(tesztsok))\n",
        "megoldas1_2['x4']=np.zeros(len(tesztsok))\n",
        "megoldas1_2['x5']=np.zeros(len(tesztsok))\n",
        "for i in range(len(tesztsok)):\n",
        "  megoldas1_2['x1'][i]=tesztsok[i][0]\n",
        "  megoldas1_2['x2'][i]=tesztsok[i][1]\n",
        "  megoldas1_2['x3'][i]=tesztsok[i][2]\n",
        "  megoldas1_2['x4'][i]=tesztsok[i][3]\n",
        "  megoldas1_2['x5'][i]=tesztsok[i][4]"
      ]
    },
    {
      "cell_type": "code",
      "source": [
        "#Az eredmények csv-re mentése:\n",
        "with open('megoldas1_2.csv', 'w') as file:\n",
        "    writer = csv.writer(file)\n",
        "    writer.writerow(megoldas1_2)\n",
        "print(megoldas1_2)"
      ],
      "metadata": {
        "id": "_hmo80vkvftY"
      },
      "execution_count": null,
      "outputs": []
    },
    {
      "cell_type": "code",
      "execution_count": null,
      "metadata": {
        "id": "DVbde-FJzaAm"
      },
      "outputs": [],
      "source": [
        "megoldas1_2=pd.read_csv('/content/drive/My Drive/numpu4/beadando_etfs/megoldas1_2.csv') #Hogy ne kelljen mindig újrafuttatni, itt a korábban megkapott optimumot hívjuk be\n",
        "print(megoldas1_2)\n"
      ]
    },
    {
      "cell_type": "code",
      "execution_count": 41,
      "metadata": {
        "id": "yY--7JvRy_EG",
        "colab": {
          "base_uri": "https://localhost:8080/",
          "height": 479
        },
        "outputId": "028e4cab-8001-4b06-9882-4d2f2506bb7f"
      },
      "outputs": [
        {
          "output_type": "display_data",
          "data": {
            "text/plain": [
              "<Figure size 720x504 with 1 Axes>"
            ],
            "image/png": "[encoded data removed]"
          },
          "metadata": {
            "needs_background": "light"
          }
        }
      ],
      "source": [
        "#Ábrázolás: Sharpe-ráta optimalizálással gördülő súlyok\n",
        "ay = megoldas1_2['x1'] #pbj\n",
        "by = megoldas1_2['x2'] #dbe\n",
        "cy = megoldas1_2['x3'] #xlb\n",
        "dy = megoldas1_2['x4'] #qqq\n",
        "ey = megoldas1_2['x5'] #bil\n",
        "y = np.vstack([ay, by, cy,dy,ey])\n",
        "sulyok=np.array([ay, by, cy,dy,ey])\n",
        "# plot\n",
        "fig, ax = plt.subplots(figsize=(10,7))\n",
        "x=df_bil['Date'][0:len(ay)]\n",
        "plt.xlim=(x)\n",
        "ax.stackplot(megoldas1_2.index, y)\n",
        "plt.legend(['xlb','dbe','bil','qqq','pbj'])\n",
        "plt.suptitle('Sharpe-ráta gördülő súlyok')\n",
        "plt.ylabel('%')\n",
        "plt.savefig(\"gordulosharpe.png\") \n",
        "plt.show()"
      ]
    },
    {
      "cell_type": "code",
      "source": [
        "###################Returnök kiszámítása"
      ],
      "metadata": {
        "id": "LmlFe6nAb96e"
      },
      "execution_count": 42,
      "outputs": []
    },
    {
      "cell_type": "code",
      "source": [
        "#Returnök visszaadása: üres adatbázis létrehozása\n",
        "gordreturn=pd.DataFrame(columns={'return'})\n",
        "gordreturn['return']=np.zeros(len(sulyok[0]))"
      ],
      "metadata": {
        "id": "0QYCJzVEfa2Y"
      },
      "execution_count": 43,
      "outputs": []
    },
    {
      "cell_type": "code",
      "source": [
        "#Ellenőrzés\n",
        "df_ret.head(3)"
      ],
      "metadata": {
        "id": "dxdl-yGOOMKQ",
        "colab": {
          "base_uri": "https://localhost:8080/",
          "height": 175
        },
        "outputId": "baee45ca-fb2d-4248-9411-90f772c97f5f"
      },
      "execution_count": 44,
      "outputs": [
        {
          "output_type": "execute_result",
          "data": {
            "text/plain": [
              "                 bil        yc       xlb       pbj       dbe       qqq\n",
              "Date                                                                  \n",
              "2008-01-02       NaN       NaN       NaN       NaN       NaN       NaN\n",
              "2008-01-03 -0.000654 -0.004695  0.018160  0.000597 -0.006576  0.004166\n",
              "2008-01-04 -0.000219 -0.009434 -0.030202 -0.023297 -0.005516 -0.043856"
            ],
            "text/html": [
              "\n",
              "  <div id=\"df-48755994-e9a2-4bab-876a-c7d2aa80bc9d\">\n",
              "    <div class=\"colab-df-container\">\n",
              "      <div>\n",
              "<style scoped>\n",
              "    .dataframe tbody tr th:only-of-type {\n",
              "        vertical-align: middle;\n",
              "    }\n",
              "\n",
              "    .dataframe tbody tr th {\n",
              "        vertical-align: top;\n",
              "    }\n",
              "\n",
              "    .dataframe thead th {\n",
              "        text-align: right;\n",
              "    }\n",
              "</style>\n",
              "<table border=\"1\" class=\"dataframe\">\n",
              "  <thead>\n",
              "    <tr style=\"text-align: right;\">\n",
              "      <th></th>\n",
              "      <th>bil</th>\n",
              "      <th>yc</th>\n",
              "      <th>xlb</th>\n",
              "      <th>pbj</th>\n",
              "      <th>dbe</th>\n",
              "      <th>qqq</th>\n",
              "    </tr>\n",
              "    <tr>\n",
              "      <th>Date</th>\n",
              "      <th></th>\n",
              "      <th></th>\n",
              "      <th></th>\n",
              "      <th></th>\n",
              "      <th></th>\n",
              "      <th></th>\n",
              "    </tr>\n",
              "  </thead>\n",
              "  <tbody>\n",
              "    <tr>\n",
              "      <th>2008-01-02</th>\n",
              "      <td>NaN</td>\n",
              "      <td>NaN</td>\n",
              "      <td>NaN</td>\n",
              "      <td>NaN</td>\n",
              "      <td>NaN</td>\n",
              "      <td>NaN</td>\n",
              "    </tr>\n",
              "    <tr>\n",
              "      <th>2008-01-03</th>\n",
              "      <td>-0.000654</td>\n",
              "      <td>-0.004695</td>\n",
              "      <td>0.018160</td>\n",
              "      <td>0.000597</td>\n",
              "      <td>-0.006576</td>\n",
              "      <td>0.004166</td>\n",
              "    </tr>\n",
              "    <tr>\n",
              "      <th>2008-01-04</th>\n",
              "      <td>-0.000219</td>\n",
              "      <td>-0.009434</td>\n",
              "      <td>-0.030202</td>\n",
              "      <td>-0.023297</td>\n",
              "      <td>-0.005516</td>\n",
              "      <td>-0.043856</td>\n",
              "    </tr>\n",
              "  </tbody>\n",
              "</table>\n",
              "</div>\n",
              "      <button class=\"colab-df-convert\" onclick=\"convertToInteractive('df-48755994-e9a2-4bab-876a-c7d2aa80bc9d')\"\n",
              "              title=\"Convert this dataframe to an interactive table.\"\n",
              "              style=\"display:none;\">\n",
              "        \n",
              "  <svg xmlns=\"http://www.w3.org/2000/svg\" height=\"24px\"viewBox=\"0 0 24 24\"\n",
              "       width=\"24px\">\n",
              "    <path d=\"M0 0h24v24H0V0z\" fill=\"none\"/>\n",
              "    <path d=\"M18.56 5.44l.94 2.06.94-2.06 2.06-.94-2.06-.94-.94-2.06-.94 2.06-2.06.94zm-11 1L8.5 8.5l.94-2.06 2.06-.94-2.06-.94L8.5 2.5l-.94 2.06-2.06.94zm10 10l.94 2.06.94-2.06 2.06-.94-2.06-.94-.94-2.06-.94 2.06-2.06.94z\"/><path d=\"M17.41 7.96l-1.37-1.37c-.4-.4-.92-.59-1.43-.59-.52 0-1.04.2-1.43.59L10.3 9.45l-7.72 7.72c-.78.78-.78 2.05 0 2.83L4 21.41c.39.39.9.59 1.41.59.51 0 1.02-.2 1.41-.59l7.78-7.78 2.81-2.81c.8-.78.8-2.07 0-2.86zM5.41 20L4 18.59l7.72-7.72 1.47 1.35L5.41 20z\"/>\n",
              "  </svg>\n",
              "      </button>\n",
              "      \n",
              "  <style>\n",
              "    .colab-df-container {\n",
              "      display:flex;\n",
              "      flex-wrap:wrap;\n",
              "      gap: 12px;\n",
              "    }\n",
              "\n",
              "    .colab-df-convert {\n",
              "      background-color: #E8F0FE;\n",
              "      border: none;\n",
              "      border-radius: 50%;\n",
              "      cursor: pointer;\n",
              "      display: none;\n",
              "      fill: #1967D2;\n",
              "      height: 32px;\n",
              "      padding: 0 0 0 0;\n",
              "      width: 32px;\n",
              "    }\n",
              "\n",
              "    .colab-df-convert:hover {\n",
              "      background-color: #E2EBFA;\n",
              "      box-shadow: 0px 1px 2px rgba(60, 64, 67, 0.3), 0px 1px 3px 1px rgba(60, 64, 67, 0.15);\n",
              "      fill: #174EA6;\n",
              "    }\n",
              "\n",
              "    [theme=dark] .colab-df-convert {\n",
              "      background-color: #3B4455;\n",
              "      fill: #D2E3FC;\n",
              "    }\n",
              "\n",
              "    [theme=dark] .colab-df-convert:hover {\n",
              "      background-color: #434B5C;\n",
              "      box-shadow: 0px 1px 3px 1px rgba(0, 0, 0, 0.15);\n",
              "      filter: drop-shadow(0px 1px 2px rgba(0, 0, 0, 0.3));\n",
              "      fill: #FFFFFF;\n",
              "    }\n",
              "  </style>\n",
              "\n",
              "      <script>\n",
              "        const buttonEl =\n",
              "          document.querySelector('#df-48755994-e9a2-4bab-876a-c7d2aa80bc9d button.colab-df-convert');\n",
              "        buttonEl.style.display =\n",
              "          google.colab.kernel.accessAllowed ? 'block' : 'none';\n",
              "\n",
              "        async function convertToInteractive(key) {\n",
              "          const element = document.querySelector('#df-48755994-e9a2-4bab-876a-c7d2aa80bc9d');\n",
              "          const dataTable =\n",
              "            await google.colab.kernel.invokeFunction('convertToInteractive',\n",
              "                                                     [key], {});\n",
              "          if (!dataTable) return;\n",
              "\n",
              "          const docLinkHtml = 'Like what you see? Visit the ' +\n",
              "            '<a target=\"_blank\" href=https://colab.research.google.com/notebooks/data_table.ipynb>data table notebook</a>'\n",
              "            + ' to learn more about interactive tables.';\n",
              "          element.innerHTML = '';\n",
              "          dataTable['output_type'] = 'display_data';\n",
              "          await google.colab.output.renderOutput(dataTable, element);\n",
              "          const docLink = document.createElement('div');\n",
              "          docLink.innerHTML = docLinkHtml;\n",
              "          element.appendChild(docLink);\n",
              "        }\n",
              "      </script>\n",
              "    </div>\n",
              "  </div>\n",
              "  "
            ]
          },
          "metadata": {},
          "execution_count": 44
        }
      ]
    },
    {
      "cell_type": "code",
      "source": [
        "#A súlyfüggvények\n",
        "print(sulyok)"
      ],
      "metadata": {
        "colab": {
          "base_uri": "https://localhost:8080/"
        },
        "id": "9Kvh81mhNzJn",
        "outputId": "05441b89-c7e5-4aff-cc85-257bbc691c1f"
      },
      "execution_count": 45,
      "outputs": [
        {
          "output_type": "stream",
          "name": "stdout",
          "text": [
            "[[8.02186930e-03 8.01746895e-03 8.08082763e-03 ... 2.36231590e-11\n",
            "  5.00000000e-01 5.00000000e-01]\n",
            " [9.89223014e-01 9.89116242e-01 9.89108529e-01 ... 0.00000000e+00\n",
            "  2.00000000e-01 2.00000000e-01]\n",
            " [1.28726317e-03 1.43798738e-03 1.40727635e-03 ... 0.00000000e+00\n",
            "  1.00000000e-01 1.00000000e-01]\n",
            " [1.46785396e-03 1.42830205e-03 1.40336734e-03 ... 0.00000000e+00\n",
            "  0.00000000e+00 0.00000000e+00]\n",
            " [1.72409812e-13 1.09212277e-13 5.03130034e-14 ... 1.00000000e+00\n",
            "  0.00000000e+00 0.00000000e+00]]\n"
          ]
        }
      ]
    },
    {
      "cell_type": "code",
      "source": [
        "#A súlyfüggvények np. array-é alakítása, mert így tud lefutni a 'minden' kód\n",
        "df_suly1_2=megoldas1_2[['x1','x2','x3','x4','x5']]\n",
        "sulyarray=[]\n",
        "\n",
        "for i in range(len(df_suly1_2['x1'])):\n",
        "  sulyarray.append([])\n",
        "  for j in range(5):\n",
        "    sulyarray[i].append(df_suly1_2[df_suly1_2.columns[j]][i])\n",
        "  sulyarray[i]=np.array(sulyarray[i])"
      ],
      "metadata": {
        "id": "td16FBMyXi3n"
      },
      "execution_count": 46,
      "outputs": []
    },
    {
      "cell_type": "code",
      "source": [
        "#Ellenőrzés: valóban np. array\n",
        "print(type(sulyarray[1]))"
      ],
      "metadata": {
        "colab": {
          "base_uri": "https://localhost:8080/"
        },
        "id": "D9pd4jGNYBac",
        "outputId": "ba7b1b8c-f296-46a5-80a3-85d51a60fda5"
      },
      "execution_count": 47,
      "outputs": [
        {
          "output_type": "stream",
          "name": "stdout",
          "text": [
            "<class 'numpy.ndarray'>\n"
          ]
        }
      ]
    },
    {
      "cell_type": "code",
      "source": [
        "#A returnök kiszámolása a csúszóablakos módszernél\n",
        "gordreturn['return']=np.zeros(len(megoldas1_2['x1']))\n",
        "gordreturn['szoras']=np.zeros(len(megoldas1_2['x1']))\n",
        "\n",
        "for i in range(len(megoldas1_2['x1'])):  \n",
        "  gordreturn['return'][i]=minden(df_hozam_gsh[i:(i+5*252)],sulyarray[i])[0]\n",
        "  gordreturn['szoras'][i]=minden(df_hozam_gsh[i:(i+5*252)],sulyarray[i])[1] #a return és a szórás oszlopok feltöltése a korábban bemutatott függvénnyel\n",
        "\n",
        "  #df_ret[df_ret.columns[1]]*megoldas1_2['x1'][i] #pbj #az index 1-nél indul, mert a 0. az yc\n",
        "  "
      ],
      "metadata": {
        "id": "V9k5nxGphObZ"
      },
      "execution_count": 48,
      "outputs": []
    },
    {
      "cell_type": "code",
      "source": [
        "#Dátum hozzáadása\n",
        "gordreturn['Date']=df_bil['Date'][0:len(gordreturn['return'])]\n",
        "print(gordreturn.head(4))\n",
        "gordreturn=gordreturn.set_index('Date')\n",
        "gordreturn.index = pd.to_datetime(gordreturn.index)"
      ],
      "metadata": {
        "colab": {
          "base_uri": "https://localhost:8080/"
        },
        "id": "2QW_kK1QgEft",
        "outputId": "38677b2b-3028-4840-d0d4-75c016a571a5"
      },
      "execution_count": 49,
      "outputs": [
        {
          "output_type": "stream",
          "name": "stdout",
          "text": [
            "     return    szoras        Date\n",
            "0  0.063238  0.321643  2008-01-02\n",
            "1  0.058207  0.321543  2008-01-03\n",
            "2  0.066630  0.321293  2008-01-04\n",
            "3  0.068946  0.321238  2008-01-07\n"
          ]
        }
      ]
    },
    {
      "cell_type": "code",
      "source": [
        "#A csúszóablakos optimális returnök ábrázolása\n",
        "\n",
        "plt.figure(figsize=(12, 9))\n",
        "gordreturn['return'][1:3600].plot()\n",
        "plt.suptitle('Optimális portfólió hozama', fontsize=15)\n",
        "plt.ylabel('Hozam', fontsize=15)\n",
        "plt.xlabel('Dátum', fontsize=15)\n",
        "plt.savefig(\"sharpegordhozam.png\") \n",
        "plt.show()"
      ],
      "metadata": {
        "colab": {
          "base_uri": "https://localhost:8080/",
          "height": 584
        },
        "id": "vFXGviQLZnMh",
        "outputId": "986ba954-84f7-4b1a-a742-60a92c334c7d"
      },
      "execution_count": 195,
      "outputs": [
        {
          "output_type": "display_data",
          "data": {
            "text/plain": [
              "<Figure size 864x648 with 1 Axes>"
            ],
            "image/png": "[encoded data removed]"
          },
          "metadata": {
            "needs_background": "light"
          }
        }
      ]
    },
    {
      "cell_type": "code",
      "source": [
        "#A csúszóablakos optimális szórások ábrázolása\n",
        "#Az alacsony hozam mellett alacsony szórás van\n",
        "plt.figure(figsize=(12, 9))\n",
        "gordreturn['szoras'][1:3600].plot() \n",
        "plt.suptitle('Optimális portfólió szórása', fontsize=15)\n",
        "plt.ylabel('Szórás', fontsize=15)\n",
        "plt.xlabel('Dátum', fontsize=15)\n",
        "plt.savefig(\"sharpegordszoras.png\") \n",
        "plt.show()"
      ],
      "metadata": {
        "colab": {
          "base_uri": "https://localhost:8080/",
          "height": 584
        },
        "id": "tYrh9a6Cn70t",
        "outputId": "630d7570-cc35-414a-c714-d36b206d784d"
      },
      "execution_count": 196,
      "outputs": [
        {
          "output_type": "display_data",
          "data": {
            "text/plain": [
              "<Figure size 864x648 with 1 Axes>"
            ],
            "image/png": "[encoded data removed]"
          },
          "metadata": {
            "needs_background": "light"
          }
        }
      ]
    },
    {
      "cell_type": "code",
      "source": [
        "#minden(df_hozam_gsh[1:(1+5*252)],df_suly1_2[1:(1+1)])\n",
        "minden(df_hozam_gsh,np.array([1,0,0,0,0]))"
      ],
      "metadata": {
        "colab": {
          "base_uri": "https://localhost:8080/"
        },
        "id": "x5RAf5AwTv9N",
        "outputId": "f92e4905-1719-4157-ae8f-e206c6d4ef72"
      },
      "execution_count": 52,
      "outputs": [
        {
          "output_type": "execute_result",
          "data": {
            "text/plain": [
              "(0.00487529085580334, 0.004979813351040106)"
            ]
          },
          "metadata": {},
          "execution_count": 52
        }
      ]
    },
    {
      "cell_type": "markdown",
      "metadata": {
        "id": "wUJN3QrGOj8W"
      },
      "source": [
        "##Maximum drawdown minimalizálása"
      ]
    },
    {
      "cell_type": "markdown",
      "metadata": {
        "id": "vPCbIVCnrSPV"
      },
      "source": [
        "###Adatbázis kialakítása"
      ]
    },
    {
      "cell_type": "markdown",
      "source": [
        "#####A fentiektől eltérően itt naponta kell hozamot vizsgálni (a min. max. drawdownhoz), így új függvények és adatbázisok szükségesek"
      ],
      "metadata": {
        "id": "007rKUXzloIw"
      }
    },
    {
      "cell_type": "code",
      "execution_count": 126,
      "metadata": {
        "id": "5cr-2ftOOn9q"
      },
      "outputs": [],
      "source": [
        "#Súlyok\n",
        "w=[0,1,0,0,0]"
      ]
    },
    {
      "cell_type": "code",
      "execution_count": null,
      "metadata": {
        "id": "GSZbgCRORK5E"
      },
      "outputs": [],
      "source": [
        "print(df_hozam2)"
      ]
    },
    {
      "cell_type": "code",
      "execution_count": null,
      "metadata": {
        "id": "w96sDzxMOtqQ"
      },
      "outputs": [],
      "source": [
        "#Létrehozunk egy eredmény oszlopot a súlyokkal számolt returnhöz\n",
        "df_hozam2['eredmeny']=0\n",
        "print(df_hozam2['eredmeny'])"
      ]
    },
    {
      "cell_type": "code",
      "execution_count": 129,
      "metadata": {
        "id": "TPp_KtoXPQ_9"
      },
      "outputs": [],
      "source": [
        "#Feltöltjük\n",
        "df_hozam2['eredmeny']=df_hozam2['eredmeny']+df_ret['dbe']*w[0]\n",
        "df_hozam2['eredmeny']=df_hozam2['eredmeny']+df_ret['qqq']*w[1]\n",
        "df_hozam2['eredmeny']=df_hozam2['eredmeny']+df_ret['pbj']*w[2]\n",
        "df_hozam2['eredmeny']=df_hozam2['eredmeny']+df_ret['xlb']*w[3]\n",
        "df_hozam2['eredmeny']=df_hozam2['eredmeny']+df_ret['bil']*w[4]\n"
      ]
    },
    {
      "cell_type": "code",
      "execution_count": 130,
      "metadata": {
        "id": "yCQDG34SyX4m",
        "colab": {
          "base_uri": "https://localhost:8080/"
        },
        "outputId": "228ffd41-09d3-4b35-8231-9e0833de6850"
      },
      "outputs": [
        {
          "output_type": "stream",
          "name": "stdout",
          "text": [
            "            eredmeny\n",
            "Date                \n",
            "2008-01-02         0\n",
            "2008-01-03         0\n",
            "2008-01-04         0\n",
            "2008-01-07         0\n",
            "2008-01-08         0\n"
          ]
        }
      ],
      "source": [
        "#2. lehetőség: for ciklust írunk rá\n",
        "df_hozam3=pd.DataFrame(columns={'eredmeny'})\n",
        "df_hozam3['eredmeny']=df_hozam2['eredmeny'].copy()\n",
        "df_hozam3['eredmeny']=0\n",
        "print(df_hozam3.head(5))"
      ]
    },
    {
      "cell_type": "code",
      "execution_count": null,
      "metadata": {
        "id": "OKAJdn2hyIXX"
      },
      "outputs": [],
      "source": [
        "#Feltöltjük a skalárszorzatokkal\n",
        "for i in range(len(df_hozam2.columns)-2):\n",
        "  df_hozam3['eredmeny']=df_hozam3['eredmeny']+df_ret[df_hozam2.columns[i]]*w[i]\n",
        "\n",
        "print(df_hozam3['eredmeny'])"
      ]
    },
    {
      "cell_type": "code",
      "execution_count": null,
      "metadata": {
        "id": "lV3JddlHPb9L"
      },
      "outputs": [],
      "source": [
        "#Teszt\n",
        "print(df_hozam2['eredmeny'])"
      ]
    },
    {
      "cell_type": "code",
      "execution_count": 133,
      "metadata": {
        "id": "p6hLewtaUvp0",
        "colab": {
          "base_uri": "https://localhost:8080/"
        },
        "outputId": "82bfea47-dd98-44a8-8c72-975321b491ee"
      },
      "outputs": [
        {
          "output_type": "stream",
          "name": "stderr",
          "text": [
            "<ipython-input-133-abbf480cf5d3>:3: SettingWithCopyWarning: \n",
            "A value is trying to be set on a copy of a slice from a DataFrame\n",
            "\n",
            "See the caveats in the documentation: https://pandas.pydata.org/pandas-docs/stable/user_guide/indexing.html#returning-a-view-versus-a-copy\n",
            "  df_hozam2['return'][0]=1\n"
          ]
        }
      ],
      "source": [
        "#A portfólió hozamának a kiszámítása\n",
        "df_hozam2['return']=np.zeros\n",
        "df_hozam2['return'][0]=1\n",
        "\n",
        "df_hozam2['return']=df_hozam2['eredmeny']\n",
        "df_hozam2['return'][0]=1\n",
        "df_hozam2['return'][1]=df_hozam2['return'][0]*(1+df_hozam2['eredmeny'][1])\n",
        "\n",
        "\n",
        "\n",
        "for i in range(len(df_hozam2['eredmeny'])-1):\n",
        "  df_hozam2['return'][i+1]=(df_hozam2['eredmeny'][i+1]+1)*df_hozam2['return'][i]"
      ]
    },
    {
      "cell_type": "code",
      "execution_count": 156,
      "metadata": {
        "id": "his7IIKvT4Q2",
        "colab": {
          "base_uri": "https://localhost:8080/",
          "height": 530
        },
        "outputId": "3e060c5b-cd9b-4f1a-fee8-2e90b756725e"
      },
      "outputs": [
        {
          "output_type": "display_data",
          "data": {
            "text/plain": [
              "<Figure size 864x648 with 1 Axes>"
            ],
            "image/png": "[encoded data removed]"
          },
          "metadata": {
            "needs_background": "light"
          }
        }
      ],
      "source": [
        "#Ellenőrzések\n",
        "#print(df_hozam2['return'],df_hozam2['eredmeny'])\n",
        "#df_hozam2[['eredmeny','return']].plot()\n",
        "df_hozam2[['return','eredmeny']].plot(title=\"A portfólió hozama, és az egyes időszakok eredménye\",figsize=(12, 9))\n",
        "plt.ylabel('Hozam')\n",
        "plt.xlabel('Dátum')\n",
        "plt.show()"
      ]
    },
    {
      "cell_type": "code",
      "execution_count": 135,
      "metadata": {
        "id": "n-LXmQYogfgN"
      },
      "outputs": [],
      "source": [
        "def hozamdf(df1,df2, ww): #a súlyok segítségével naponta számol hozamot, df1 a hozam, df2 a return értékek adatbázisa\n",
        "\n",
        "  adatsor=df1.copy() #így annyi sorból áll, mint az eredeti df\n",
        "  adatsor['eredmeny']=0\n",
        "  for i in range(len(df1.columns)-2):\n",
        "    adatsor['eredmeny']=adatsor['eredmeny']+df2[df1.columns[i]]*ww[i] #a súlyokkal súlyozunk, hogy megfelelő legyen a hozam\n",
        "\n",
        "\n",
        "  adatsor['return']=np.zeros\n",
        "  adatsor['return'][0]=1\n",
        "  adatsor['return'][1]=adatsor['return'][0]*(1+adatsor['eredmeny'][1]) #kiszámítjuk a hozamot\n",
        "\n",
        "  for i in range(len(adatsor['eredmeny'])-1):\n",
        "    adatsor['return'][i+1]=(adatsor['eredmeny'][i+1]+1)*adatsor['return'][i]\n",
        "\n",
        "  return adatsor['return']"
      ]
    },
    {
      "cell_type": "code",
      "execution_count": 135,
      "metadata": {
        "id": "Vf4KZJ0kh7x2"
      },
      "outputs": [],
      "source": []
    },
    {
      "cell_type": "code",
      "execution_count": 136,
      "metadata": {
        "id": "v2jCvifeh9tw",
        "colab": {
          "base_uri": "https://localhost:8080/",
          "height": 546
        },
        "outputId": "e4f9348b-30c9-413f-aa6f-1ef28161fe92"
      },
      "outputs": [
        {
          "output_type": "stream",
          "name": "stderr",
          "text": [
            "<ipython-input-135-2ede26dfcedf>:10: SettingWithCopyWarning: \n",
            "A value is trying to be set on a copy of a slice from a DataFrame\n",
            "\n",
            "See the caveats in the documentation: https://pandas.pydata.org/pandas-docs/stable/user_guide/indexing.html#returning-a-view-versus-a-copy\n",
            "  adatsor['return'][0]=1\n",
            "<ipython-input-135-2ede26dfcedf>:11: SettingWithCopyWarning: \n",
            "A value is trying to be set on a copy of a slice from a DataFrame\n",
            "\n",
            "See the caveats in the documentation: https://pandas.pydata.org/pandas-docs/stable/user_guide/indexing.html#returning-a-view-versus-a-copy\n",
            "  adatsor['return'][1]=adatsor['return'][0]*(1+adatsor['eredmeny'][1]) #kiszámítjuk a hozamot\n",
            "<ipython-input-135-2ede26dfcedf>:14: SettingWithCopyWarning: \n",
            "A value is trying to be set on a copy of a slice from a DataFrame\n",
            "\n",
            "See the caveats in the documentation: https://pandas.pydata.org/pandas-docs/stable/user_guide/indexing.html#returning-a-view-versus-a-copy\n",
            "  adatsor['return'][i+1]=(adatsor['eredmeny'][i+1]+1)*adatsor['return'][i]\n"
          ]
        },
        {
          "output_type": "display_data",
          "data": {
            "text/plain": [
              "<Figure size 432x288 with 1 Axes>"
            ],
            "image/png": "[encoded data removed]"
          },
          "metadata": {
            "needs_background": "light"
          }
        }
      ],
      "source": [
        "#Ellenőrzés\n",
        "qq=hozamdf(df_hozam2,df_ret,w)\n",
        "#print(qq.head(-5))\n",
        "fig=qq.plot(title=\"A portfólió hozamának alakulása az adott w súlyokkal\",\n",
        "            )\n",
        "#fig.legend=\"return\"\n",
        "\n",
        "plt.show(fig)"
      ]
    },
    {
      "cell_type": "code",
      "execution_count": 137,
      "metadata": {
        "id": "MN4pF5UCiS0z"
      },
      "outputs": [],
      "source": [
        "def maxmin(ww): #Ez a függvény számolja ki a drawdown mértékét (a minimalizáláshoz is ezt fogjuk használni)\n",
        "  qq=hozamdf(df_hozam2,df_ret,ww)\n",
        "  kicsi=min(qq)\n",
        "  a=0 \n",
        "  for i in qq:\n",
        "    a=a+1\n",
        "    if i == kicsi: \n",
        "      break\n",
        "  nagy=0\n",
        "  for j in range(0,a):\n",
        "    if qq[j]>nagy:\n",
        "      nagy=qq[j]\n",
        "  return (nagy-kicsi)/nagy\n"
      ]
    },
    {
      "cell_type": "code",
      "execution_count": 138,
      "metadata": {
        "id": "r1CLr0Xe6MO4",
        "colab": {
          "base_uri": "https://localhost:8080/"
        },
        "outputId": "11e2678a-166a-4e12-bba9-22f010337b47"
      },
      "outputs": [
        {
          "output_type": "stream",
          "name": "stderr",
          "text": [
            "<ipython-input-135-2ede26dfcedf>:10: SettingWithCopyWarning: \n",
            "A value is trying to be set on a copy of a slice from a DataFrame\n",
            "\n",
            "See the caveats in the documentation: https://pandas.pydata.org/pandas-docs/stable/user_guide/indexing.html#returning-a-view-versus-a-copy\n",
            "  adatsor['return'][0]=1\n",
            "<ipython-input-135-2ede26dfcedf>:11: SettingWithCopyWarning: \n",
            "A value is trying to be set on a copy of a slice from a DataFrame\n",
            "\n",
            "See the caveats in the documentation: https://pandas.pydata.org/pandas-docs/stable/user_guide/indexing.html#returning-a-view-versus-a-copy\n",
            "  adatsor['return'][1]=adatsor['return'][0]*(1+adatsor['eredmeny'][1]) #kiszámítjuk a hozamot\n",
            "<ipython-input-135-2ede26dfcedf>:14: SettingWithCopyWarning: \n",
            "A value is trying to be set on a copy of a slice from a DataFrame\n",
            "\n",
            "See the caveats in the documentation: https://pandas.pydata.org/pandas-docs/stable/user_guide/indexing.html#returning-a-view-versus-a-copy\n",
            "  adatsor['return'][i+1]=(adatsor['eredmeny'][i+1]+1)*adatsor['return'][i]\n"
          ]
        },
        {
          "output_type": "stream",
          "name": "stdout",
          "text": [
            "0.5982482346449063\n"
          ]
        }
      ],
      "source": [
        "#Ellenőrzés\n",
        "drawd=maxmin(w)\n",
        "print(drawd)\n"
      ]
    },
    {
      "cell_type": "markdown",
      "metadata": {
        "id": "ho4f-2khEhIG"
      },
      "source": [
        "####Optimalizálás"
      ]
    },
    {
      "cell_type": "code",
      "execution_count": 139,
      "metadata": {
        "id": "mXM-D3qT6QTt"
      },
      "outputs": [],
      "source": [
        "#Szükséges package-ek importálása\n",
        "import seaborn as sns\n",
        "\n",
        "import scipy"
      ]
    },
    {
      "cell_type": "code",
      "execution_count": 139,
      "metadata": {
        "id": "4yusTrekARQP"
      },
      "outputs": [],
      "source": []
    },
    {
      "cell_type": "code",
      "execution_count": 140,
      "metadata": {
        "id": "SW_Wul6b_YWy"
      },
      "outputs": [],
      "source": [
        "#Egy egyszerűen ellenőrizhető példafüggvény\n",
        "def proba(ww):\n",
        "  return ww[0]/ww[1]+ww[2]+ww[3]+ww[4]"
      ]
    },
    {
      "cell_type": "code",
      "execution_count": 141,
      "metadata": {
        "id": "RkPPD-kmASIN"
      },
      "outputs": [],
      "source": [
        "#Az optimalizálandó függvény\n",
        "fun3 = lambda x: maxmin(x) #ide proba(x) is jöhet tesztelni"
      ]
    },
    {
      "cell_type": "code",
      "execution_count": 142,
      "metadata": {
        "id": "iXPCiXOV659Z"
      },
      "outputs": [],
      "source": [
        "#Határok és korlátok\n",
        "bounds=((0,None),(0,None),(0,None),(0,None),(0,None))\n",
        "cons=({'type': 'eq', 'fun': lambda ww: np.sum(ww)-1})"
      ]
    },
    {
      "cell_type": "code",
      "execution_count": 161,
      "metadata": {
        "id": "pJFg3Rhq6oE_",
        "colab": {
          "base_uri": "https://localhost:8080/"
        },
        "outputId": "303e3a0a-bfbc-4dfe-b9b6-2354fb4f2947"
      },
      "outputs": [
        {
          "output_type": "stream",
          "name": "stderr",
          "text": [
            "<ipython-input-135-2ede26dfcedf>:10: SettingWithCopyWarning: \n",
            "A value is trying to be set on a copy of a slice from a DataFrame\n",
            "\n",
            "See the caveats in the documentation: https://pandas.pydata.org/pandas-docs/stable/user_guide/indexing.html#returning-a-view-versus-a-copy\n",
            "  adatsor['return'][0]=1\n",
            "<ipython-input-135-2ede26dfcedf>:11: SettingWithCopyWarning: \n",
            "A value is trying to be set on a copy of a slice from a DataFrame\n",
            "\n",
            "See the caveats in the documentation: https://pandas.pydata.org/pandas-docs/stable/user_guide/indexing.html#returning-a-view-versus-a-copy\n",
            "  adatsor['return'][1]=adatsor['return'][0]*(1+adatsor['eredmeny'][1]) #kiszámítjuk a hozamot\n",
            "<ipython-input-135-2ede26dfcedf>:14: SettingWithCopyWarning: \n",
            "A value is trying to be set on a copy of a slice from a DataFrame\n",
            "\n",
            "See the caveats in the documentation: https://pandas.pydata.org/pandas-docs/stable/user_guide/indexing.html#returning-a-view-versus-a-copy\n",
            "  adatsor['return'][i+1]=(adatsor['eredmeny'][i+1]+1)*adatsor['return'][i]\n"
          ]
        }
      ],
      "source": [
        "#Az optimalizálás (~3 min volt nekem)\n",
        "megoldas3=scipy.optimize.minimize(fun3, (0.1,0.1,0.1,0.1,0.6), method='SLSQP',\n",
        "                        bounds=bounds,\n",
        "                        constraints=cons)"
      ]
    },
    {
      "cell_type": "code",
      "execution_count": 159,
      "metadata": {
        "id": "KY3b-YxhBRLx",
        "colab": {
          "base_uri": "https://localhost:8080/"
        },
        "outputId": "126a0886-6bf7-4643-8501-603369715139"
      },
      "outputs": [
        {
          "output_type": "stream",
          "name": "stdout",
          "text": [
            "     fun: 0.0013094664321101623\n",
            "     jac: array([0.00130966, 0.03481957, 0.00727025, 0.03637855, 0.04902092])\n",
            " message: 'Optimization terminated successfully'\n",
            "    nfev: 18\n",
            "     nit: 3\n",
            "    njev: 3\n",
            "  status: 0\n",
            " success: True\n",
            "       x: array([1.00000000e+00, 8.32667268e-17, 2.22044605e-16, 0.00000000e+00,\n",
            "       0.00000000e+00])\n",
            "[1. 0. 0. 0. 0.]\n"
          ]
        }
      ],
      "source": [
        "#Az eredmény\n",
        "print(megoldas3)\n",
        "#Súlyok:\n",
        "print(np.round(megoldas3['x'],3))"
      ]
    },
    {
      "cell_type": "code",
      "execution_count": 145,
      "metadata": {
        "id": "oLQK1dkKDmw1",
        "colab": {
          "base_uri": "https://localhost:8080/"
        },
        "outputId": "33343585-3ccd-48d3-e33a-8689c8540991"
      },
      "outputs": [
        {
          "output_type": "execute_result",
          "data": {
            "text/plain": [
              "1.0000000000000002"
            ]
          },
          "metadata": {},
          "execution_count": 145
        }
      ],
      "source": [
        "#Ellenzőrzés\n",
        "sum(megoldas3['x'])"
      ]
    },
    {
      "cell_type": "code",
      "execution_count": 146,
      "metadata": {
        "id": "1yxNz6ViEDlK",
        "colab": {
          "base_uri": "https://localhost:8080/"
        },
        "outputId": "6890f36a-52f6-46c2-c0b5-4cb447aecd7e"
      },
      "outputs": [
        {
          "output_type": "stream",
          "name": "stderr",
          "text": [
            "<ipython-input-135-2ede26dfcedf>:10: SettingWithCopyWarning: \n",
            "A value is trying to be set on a copy of a slice from a DataFrame\n",
            "\n",
            "See the caveats in the documentation: https://pandas.pydata.org/pandas-docs/stable/user_guide/indexing.html#returning-a-view-versus-a-copy\n",
            "  adatsor['return'][0]=1\n",
            "<ipython-input-135-2ede26dfcedf>:11: SettingWithCopyWarning: \n",
            "A value is trying to be set on a copy of a slice from a DataFrame\n",
            "\n",
            "See the caveats in the documentation: https://pandas.pydata.org/pandas-docs/stable/user_guide/indexing.html#returning-a-view-versus-a-copy\n",
            "  adatsor['return'][1]=adatsor['return'][0]*(1+adatsor['eredmeny'][1]) #kiszámítjuk a hozamot\n",
            "<ipython-input-135-2ede26dfcedf>:14: SettingWithCopyWarning: \n",
            "A value is trying to be set on a copy of a slice from a DataFrame\n",
            "\n",
            "See the caveats in the documentation: https://pandas.pydata.org/pandas-docs/stable/user_guide/indexing.html#returning-a-view-versus-a-copy\n",
            "  adatsor['return'][i+1]=(adatsor['eredmeny'][i+1]+1)*adatsor['return'][i]\n"
          ]
        },
        {
          "output_type": "stream",
          "name": "stdout",
          "text": [
            "0.0013094664321101623\n"
          ]
        }
      ],
      "source": [
        "#És a portfólió alakulása az időben\n",
        "drawd=maxmin(megoldas3['x'])\n",
        "print(drawd)"
      ]
    },
    {
      "cell_type": "code",
      "execution_count": 147,
      "metadata": {
        "id": "LV4aau-zERPn",
        "colab": {
          "base_uri": "https://localhost:8080/"
        },
        "outputId": "1a25fe67-832a-4013-f3bc-eb39cee169c3"
      },
      "outputs": [
        {
          "output_type": "stream",
          "name": "stderr",
          "text": [
            "<ipython-input-135-2ede26dfcedf>:10: SettingWithCopyWarning: \n",
            "A value is trying to be set on a copy of a slice from a DataFrame\n",
            "\n",
            "See the caveats in the documentation: https://pandas.pydata.org/pandas-docs/stable/user_guide/indexing.html#returning-a-view-versus-a-copy\n",
            "  adatsor['return'][0]=1\n",
            "<ipython-input-135-2ede26dfcedf>:11: SettingWithCopyWarning: \n",
            "A value is trying to be set on a copy of a slice from a DataFrame\n",
            "\n",
            "See the caveats in the documentation: https://pandas.pydata.org/pandas-docs/stable/user_guide/indexing.html#returning-a-view-versus-a-copy\n",
            "  adatsor['return'][1]=adatsor['return'][0]*(1+adatsor['eredmeny'][1]) #kiszámítjuk a hozamot\n",
            "<ipython-input-135-2ede26dfcedf>:14: SettingWithCopyWarning: \n",
            "A value is trying to be set on a copy of a slice from a DataFrame\n",
            "\n",
            "See the caveats in the documentation: https://pandas.pydata.org/pandas-docs/stable/user_guide/indexing.html#returning-a-view-versus-a-copy\n",
            "  adatsor['return'][i+1]=(adatsor['eredmeny'][i+1]+1)*adatsor['return'][i]\n"
          ]
        },
        {
          "output_type": "stream",
          "name": "stdout",
          "text": [
            "0.9986905335678898\n"
          ]
        }
      ],
      "source": [
        "qq=hozamdf(df_hozam2,df_ret,megoldas3['x'])\n",
        "#print(qq.head(-5))\n",
        "#qq.plot()\n",
        "print(min(qq))"
      ]
    },
    {
      "cell_type": "markdown",
      "metadata": {
        "id": "2Enq7OFU2WLg"
      },
      "source": [
        "####Optimalizálás más feltételekkel"
      ]
    },
    {
      "cell_type": "code",
      "execution_count": 148,
      "metadata": {
        "id": "H8Cvo9372eQT"
      },
      "outputs": [],
      "source": [
        "#A cél az volt, hogy kisebb súlyt adjunk az 1. ETF-nek, amit szint kizárólagosan \"választ\" az optimalizáló függvény\n",
        "cons2=({'type': 'eq', 'fun': lambda ww: np.sum(ww)-1},\n",
        "       {'type': 'ineq', 'fun': lambda ww: ww[1]-0.05})"
      ]
    },
    {
      "cell_type": "code",
      "execution_count": 149,
      "metadata": {
        "id": "HzlXa2W420On",
        "colab": {
          "base_uri": "https://localhost:8080/"
        },
        "outputId": "417a3842-14fa-4b87-9265-dc509b7f84ea"
      },
      "outputs": [
        {
          "output_type": "stream",
          "name": "stderr",
          "text": [
            "<ipython-input-135-2ede26dfcedf>:10: SettingWithCopyWarning: \n",
            "A value is trying to be set on a copy of a slice from a DataFrame\n",
            "\n",
            "See the caveats in the documentation: https://pandas.pydata.org/pandas-docs/stable/user_guide/indexing.html#returning-a-view-versus-a-copy\n",
            "  adatsor['return'][0]=1\n",
            "<ipython-input-135-2ede26dfcedf>:11: SettingWithCopyWarning: \n",
            "A value is trying to be set on a copy of a slice from a DataFrame\n",
            "\n",
            "See the caveats in the documentation: https://pandas.pydata.org/pandas-docs/stable/user_guide/indexing.html#returning-a-view-versus-a-copy\n",
            "  adatsor['return'][1]=adatsor['return'][0]*(1+adatsor['eredmeny'][1]) #kiszámítjuk a hozamot\n",
            "<ipython-input-135-2ede26dfcedf>:14: SettingWithCopyWarning: \n",
            "A value is trying to be set on a copy of a slice from a DataFrame\n",
            "\n",
            "See the caveats in the documentation: https://pandas.pydata.org/pandas-docs/stable/user_guide/indexing.html#returning-a-view-versus-a-copy\n",
            "  adatsor['return'][i+1]=(adatsor['eredmeny'][i+1]+1)*adatsor['return'][i]\n"
          ]
        }
      ],
      "source": [
        "#Az optimalizálás (~3 min volt nekem)\n",
        "megoldas3b=scipy.optimize.minimize(fun3, (0.1,0.1,0.1,0.1,0.6), method='SLSQP',\n",
        "                        bounds=bounds,\n",
        "                        constraints=cons2)"
      ]
    },
    {
      "cell_type": "code",
      "execution_count": 167,
      "metadata": {
        "id": "o-HB-duc3FU7",
        "colab": {
          "base_uri": "https://localhost:8080/"
        },
        "outputId": "b654269e-d3c1-4850-ea3d-3df4ab31d073"
      },
      "outputs": [
        {
          "output_type": "stream",
          "name": "stdout",
          "text": [
            "     fun: 0.030775282573277957\n",
            "     jac: array([0.00234628, 0.56642962, 0.28087093, 0.66058376, 0.33893752])\n",
            " message: 'Optimization terminated successfully'\n",
            "    nfev: 18\n",
            "     nit: 3\n",
            "    njev: 3\n",
            "  status: 0\n",
            " success: True\n",
            "       x: array([9.50000000e-01, 5.00000000e-02, 0.00000000e+00, 1.38777878e-17,\n",
            "       0.00000000e+00])\n",
            "[0.95 0.05 0.   0.   0.  ]\n"
          ]
        },
        {
          "output_type": "stream",
          "name": "stderr",
          "text": [
            "<ipython-input-135-2ede26dfcedf>:10: SettingWithCopyWarning: \n",
            "A value is trying to be set on a copy of a slice from a DataFrame\n",
            "\n",
            "See the caveats in the documentation: https://pandas.pydata.org/pandas-docs/stable/user_guide/indexing.html#returning-a-view-versus-a-copy\n",
            "  adatsor['return'][0]=1\n",
            "<ipython-input-135-2ede26dfcedf>:11: SettingWithCopyWarning: \n",
            "A value is trying to be set on a copy of a slice from a DataFrame\n",
            "\n",
            "See the caveats in the documentation: https://pandas.pydata.org/pandas-docs/stable/user_guide/indexing.html#returning-a-view-versus-a-copy\n",
            "  adatsor['return'][1]=adatsor['return'][0]*(1+adatsor['eredmeny'][1]) #kiszámítjuk a hozamot\n",
            "<ipython-input-135-2ede26dfcedf>:14: SettingWithCopyWarning: \n",
            "A value is trying to be set on a copy of a slice from a DataFrame\n",
            "\n",
            "See the caveats in the documentation: https://pandas.pydata.org/pandas-docs/stable/user_guide/indexing.html#returning-a-view-versus-a-copy\n",
            "  adatsor['return'][i+1]=(adatsor['eredmeny'][i+1]+1)*adatsor['return'][i]\n"
          ]
        },
        {
          "output_type": "stream",
          "name": "stdout",
          "text": [
            "0.030775282573277957\n"
          ]
        }
      ],
      "source": [
        "print(megoldas3b)\n",
        "print(np.round(megoldas3b['x'],3))\n",
        "drawd=maxmin(megoldas3b['x'])\n",
        "print(drawd)"
      ]
    },
    {
      "cell_type": "markdown",
      "metadata": {
        "id": "muwhcfAJ-dOg"
      },
      "source": [
        "###Minmax csúszóablakosan"
      ]
    },
    {
      "cell_type": "code",
      "execution_count": 200,
      "metadata": {
        "id": "SgzBn15T_HpE"
      },
      "outputs": [],
      "source": [
        "def negyedikopt(start,stop): #Az optimalizáló függvény, csúszóablakokra alkalmazva a fenti hozamdf függvényt\n",
        "#  start=5\n",
        "#  stop=25\n",
        "  megoldas1_1=[]\n",
        "  \n",
        "  for k in range(start,stop): #kezdeti és végső érték: ezek között indul az ablak\n",
        "    \n",
        "    def maxmin(ww):\n",
        "      qq=hozamdf(df_hozam2[(start+k):(start+5*252+k)],df_ret,ww) #Hozamdf\n",
        "      kicsi=min(qq)\n",
        "      a=0 \n",
        "      for i in qq:\n",
        "        a=a+1\n",
        "        if i == kicsi: \n",
        "          break\n",
        "      nagy=0\n",
        "      for j in range(0,a):\n",
        "        if qq[j]>nagy:\n",
        "          nagy=qq[j]\n",
        "      return (nagy-kicsi)/nagy\n",
        "    \n",
        "    funa = lambda x: maxmin(x) #A célfüggvény\n",
        "    bounds=((0,None),(0,None),(0,None),(0,None),(0,None))\n",
        "    cons=({'type': 'eq', 'fun': lambda ww: np.sum(ww)-1})\n",
        "\n",
        "    megoldas1_a=scipy.optimize.minimize(funa, (0.5,0.2,0.1,0.0,0), method='SLSQP',\n",
        "                          bounds=bounds,\n",
        "                          constraints=cons)\n",
        "    megoldas1_1.append(megoldas1_a['x'])\n",
        "  #for i in len(megolda)\n",
        "  return megoldas1_1"
      ]
    },
    {
      "cell_type": "code",
      "execution_count": 201,
      "metadata": {
        "id": "-n1rV3RaAJ5o"
      },
      "outputs": [],
      "source": [
        "#teszt4=negyedikopt(200,250) #Ez így is 50 percig fut, ezért nem futtattuk le a teljes adatbázisra"
      ]
    },
    {
      "cell_type": "code",
      "execution_count": 202,
      "metadata": {
        "id": "qf4YjbrVAxat"
      },
      "outputs": [],
      "source": [
        "#print(teszt4)\n"
      ]
    },
    {
      "cell_type": "code",
      "execution_count": null,
      "metadata": {
        "id": "ELU7ZXtGDrgx"
      },
      "outputs": [],
      "source": [
        "#A megoldások kimentése\n",
        "megoldas3_2=pd.DataFrame(columns={'x1','x2','x3','x4','x5'})\n",
        "megoldas3_2['x1']=np.zeros(len(tesztsok))\n",
        "megoldas3_2['x2']=np.zeros(len(tesztsok))\n",
        "megoldas3_2['x3']=np.zeros(len(tesztsok))\n",
        "megoldas3_2['x4']=np.zeros(len(tesztsok))\n",
        "megoldas3_2['x5']=np.zeros(len(tesztsok))\n",
        "for i in range(len(tesztsok)):\n",
        "  megoldas3_2['x1'][i]=tesztsok[i][0]\n",
        "  megoldas3_2['x2'][i]=tesztsok[i][1]\n",
        "  megoldas3_2['x3'][i]=tesztsok[i][2]\n",
        "  megoldas3_2['x4'][i]=tesztsok[i][3]\n",
        "  megoldas3_2['x5'][i]=tesztsok[i][4]"
      ]
    },
    {
      "cell_type": "code",
      "source": [
        "#tesztsok cs-ve mentése:\n",
        "with open('megoldas3_2.csv', 'w') as file:\n",
        "    writer = csv.writer(file)\n",
        "    writer.writerow(megoldas3_2)\n",
        "print(megoldas3_2)"
      ],
      "metadata": {
        "id": "I_XisIsYaPnN"
      },
      "execution_count": null,
      "outputs": []
    },
    {
      "cell_type": "code",
      "source": [
        "#Az egyszer lefuttatott, kimentett optimumok behíváa, hogy ne kelljen újrafuttatni\n",
        "megoldas3_2=pd.read_csv('/content/drive/My Drive/numpu4/beadando_etfs/megoldas3_2.csv')\n",
        "print(type(megoldas3_2['x3']))"
      ],
      "metadata": {
        "id": "LFliw8aWwiCf"
      },
      "execution_count": null,
      "outputs": []
    },
    {
      "cell_type": "code",
      "execution_count": null,
      "metadata": {
        "id": "obblGYYID4S7"
      },
      "outputs": [],
      "source": [
        "#x=df_bil['Date']\n",
        "ay = megoldas3_2['x1']\n",
        "by = megoldas3_2['x2']\n",
        "cy = megoldas3_2['x3']\n",
        "dy = megoldas3_2['x4']\n",
        "ey = megoldas3_2['x5']\n",
        "y = np.vstack([ay,  by, cy,dy,ey]) #y = np.vstack([ay, by, cy,dy,ey])\n",
        "\n",
        "# plot\n",
        "fig, ax = plt.subplots(figsize=(10,7))\n",
        "ax.stackplot(megoldas3_2.index, y)\n",
        "plt.legend(['xlb','bil','qqq','pbj','qqq'])\n",
        "plt.suptitle('Drawdown gördülő súlyok')\n",
        "plt.ylabel('%')\n",
        "plt.savefig(\"gordulodraw.png\") \n",
        "plt.show()"
      ]
    },
    {
      "cell_type": "code",
      "source": [
        "from pathlib import Path  \n",
        "filepath = Path('/content/drive/My Drive/numpu4/beadando_etfs/megoldas3_2.csv')  #'/content/drive/My Drive/numpu4/beadando_etfs/DBE.csv'\n",
        "filepath.parent.mkdir(parents=True, exist_ok=True)  \n",
        "megoldas3_2.to_csv(filepath)"
      ],
      "metadata": {
        "id": "4oPIfFBp-_u_"
      },
      "execution_count": null,
      "outputs": []
    },
    {
      "cell_type": "code",
      "source": [
        "############Returnök számolása a csúszóablakokhoz"
      ],
      "metadata": {
        "id": "f3tMaemtbpdD"
      },
      "execution_count": null,
      "outputs": []
    },
    {
      "cell_type": "code",
      "source": [
        "df_suly3_2=megoldas3_2[['x1','x2','x3','x4','x5']] #Adatbázis létrehozása a súlyoknak\n",
        "sulyarray2=[]\n",
        "for i in range(len(df_suly1_2['x1'])):\n",
        "  sulyarray2.append([])\n",
        "  for j in range(5):\n",
        "    sulyarray2[i].append(df_suly1_2[df_suly1_2.columns[j]][i])\n",
        "  sulyarray2[i]=np.array(sulyarray[i])"
      ],
      "metadata": {
        "id": "8CGjxfEEbK-u"
      },
      "execution_count": null,
      "outputs": []
    },
    {
      "cell_type": "code",
      "source": [
        "#Ellenőrzés\n",
        "print(sulyarray2[1])"
      ],
      "metadata": {
        "id": "IG8aUWXVbOpl"
      },
      "execution_count": null,
      "outputs": []
    },
    {
      "cell_type": "code",
      "source": [
        "#Üres adatbázis a returnöknek\n",
        "gordreturn_dd=pd.DataFrame(columns={'return'})\n",
        "gordreturn_dd['return']=np.zeros(len(df_suly3_2['x1']))"
      ],
      "metadata": {
        "id": "AzkJv1vNcXMi"
      },
      "execution_count": null,
      "outputs": []
    },
    {
      "cell_type": "code",
      "source": [
        "#A returnök és szórások kiszámolása a csúszóablakos módszernél\n",
        "gordreturn_dd['return']=np.zeros(len(megoldas3_2['x1']))\n",
        "gordreturn_dd['szoras']=np.zeros(len(megoldas3_2['x1']))\n",
        "for i in range(len(megoldas3_2['x1'])):  \n",
        "  gordreturn_dd['return'][i]=minden(df_hozam_gsh[i:(i+5*252)],sulyarray[i])[0]\n",
        "  gordreturn_dd['szoras'][i]=minden(df_hozam_gsh[i:(i+5*252)],sulyarray[i])[1] #Itt is átlaghozamokkal ill. szórásokkal számolunk, hogy tudjuk ábrázolni\n",
        "  #df_ret[df_ret.columns[1]]*megoldas1_2['x1'][i] #pbj #az index 1-nél indul, mert a 0. az yc\n",
        "  "
      ],
      "metadata": {
        "id": "54Xzg3hecK3l"
      },
      "execution_count": null,
      "outputs": []
    },
    {
      "cell_type": "code",
      "source": [
        "#Dátum beállítása\n",
        "gordreturn_dd['Date']=np.zeros\n",
        "for i in range(len(gordreturn_dd)):\n",
        "  gordreturn_dd['Date'][i]=df_bil['Date'][200+i]\n",
        "print(gordreturn_dd.head(4))\n",
        "#gordreturn_dd.index = pd.to_datetime(gordreturn_dd.index)"
      ],
      "metadata": {
        "id": "MjSLkymCdEyb"
      },
      "execution_count": null,
      "outputs": []
    },
    {
      "cell_type": "code",
      "source": [
        "#Dátum beállítása\n",
        "gordreturn_dd=gordreturn_dd.set_index('Date')\n"
      ],
      "metadata": {
        "id": "wAO_I-DNiHrz"
      },
      "execution_count": null,
      "outputs": []
    },
    {
      "cell_type": "code",
      "source": [
        "plt.figure(figsize=(12, 9))\n",
        "gordreturn_dd['return'].plot()\n",
        "plt.suptitle('Optimális portfólió hozama', fontsize=15)\n",
        "plt.ylabel('Hozam', fontsize=15)\n",
        "plt.xlabel('Dátum', fontsize=15)\n",
        "plt.savefig(\"drawgordopthozam.png\") \n",
        "plt.show()"
      ],
      "metadata": {
        "id": "1Cs9d7d1c8_E"
      },
      "execution_count": null,
      "outputs": []
    },
    {
      "cell_type": "code",
      "source": [
        "plt.figure(figsize=(12, 9))\n",
        "gordreturn_dd['szoras'].plot() #Együtt mozog a kettő, minél kisebb a szórás, annál kisebb a különbség is az egyes elemek között\n",
        "plt.suptitle('Optimális portfólió szórása', fontsize=15)\n",
        "plt.ylabel('Hozam', fontsize=15)\n",
        "plt.xlabel('Dátum', fontsize=15)\n",
        "plt.savefig(\"drawgordoptszoras.png\") \n",
        "plt.show()"
      ],
      "metadata": {
        "id": "gVPdlx2WmtBk"
      },
      "execution_count": null,
      "outputs": []
    },
    {
      "cell_type": "code",
      "source": [
        "#hozamdf(df_hozam2[(start+k):(start+5*252+k)],df_ret,ww)"
      ],
      "metadata": {
        "id": "44yo-L40bcuB"
      },
      "execution_count": null,
      "outputs": []
    },
    {
      "cell_type": "markdown",
      "metadata": {
        "id": "RlBFgHTxD6Ko"
      },
      "source": [
        "##Példa a minimalizálásra\n",
        "\n",
        "https://docs.scipy.org/doc/scipy/reference/generated/scipy.optimize.minimize.html"
      ]
    },
    {
      "cell_type": "code",
      "execution_count": null,
      "metadata": {
        "id": "k6-dWYkh707l"
      },
      "outputs": [],
      "source": [
        "fun = lambda x: (x[0] - 1)**2 + (x[1] - 2.5)**2\n",
        "\n",
        "bnds = ((0, None), (0, None))\n",
        "\n",
        "cons = ({'type': 'ineq', 'fun': lambda x:  x[0] - 2 * x[1] + 2},\n",
        "        {'type': 'ineq', 'fun': lambda x: -x[0] - 2 * x[1] + 6},\n",
        "        {'type': 'ineq', 'fun': lambda x: -x[0] + 2 * x[1] + 2})\n",
        "\n",
        "res = scipy.optimize.minimize(fun, (2, 0), method='SLSQP', bounds=bnds,\n",
        "               constraints=cons)"
      ]
    },
    {
      "cell_type": "code",
      "execution_count": null,
      "metadata": {
        "id": "0MgsDZ_rAmbk"
      },
      "outputs": [],
      "source": [
        "res"
      ]
    },
    {
      "cell_type": "code",
      "execution_count": null,
      "metadata": {
        "id": "DV2DK-aTA_sQ"
      },
      "outputs": [],
      "source": []
    },
    {
      "cell_type": "markdown",
      "source": [
        "# Ábrák"
      ],
      "metadata": {
        "id": "rcGYXaMFXo7Q"
      }
    },
    {
      "cell_type": "code",
      "execution_count": 193,
      "metadata": {
        "id": "uRx7th4bAHsk",
        "colab": {
          "base_uri": "https://localhost:8080/",
          "height": 584
        },
        "outputId": "8026ba2d-34c8-416e-82b5-70bfb0a0b7dc"
      },
      "outputs": [
        {
          "output_type": "display_data",
          "data": {
            "text/plain": [
              "<Figure size 864x648 with 1 Axes>"
            ],
            "image/png": "[encoded data removed]"
          },
          "metadata": {
            "needs_background": "light"
          }
        }
      ],
      "source": [
        "plt.figure(figsize=(12, 9))\n",
        "plt.suptitle('amerikai kincstári értékpapírok piaci hozama 3 hónapos állandó lejáraton', fontsize=15)\n",
        "df_hozam['yc'].plot()\n",
        "plt.ylabel('Hozam', fontsize=15)\n",
        "plt.xlabel('Dátum', fontsize=15)\n",
        "plt.savefig(\"yc_hozam.png\") \n",
        "plt.show()"
      ]
    },
    {
      "cell_type": "code",
      "source": [
        "df_hozam.plot( y=['dbe','pbj','bil','qqq', 'xlb'], figsize=(12,9))\n",
        "plt.suptitle('Portfolió eszközök ára')\n",
        "plt.ylabel('Korrigált záróár')\n",
        "plt.xlabel('Dátum')\n",
        "plt.savefig(\"assets-adjclose.png\") \n",
        "plt.show()"
      ],
      "metadata": {
        "id": "uVS1Uo8aUmac",
        "colab": {
          "base_uri": "https://localhost:8080/",
          "height": 579
        },
        "outputId": "037b772c-f831-4144-abd2-d7e6571ff285"
      },
      "execution_count": 187,
      "outputs": [
        {
          "output_type": "display_data",
          "data": {
            "text/plain": [
              "<Figure size 864x648 with 1 Axes>"
            ],
            "image/png": "[encoded data removed]"
          },
          "metadata": {
            "needs_background": "light"
          }
        }
      ]
    },
    {
      "cell_type": "code",
      "source": [
        "df_ret.head(50)\n",
        "df_ret.plot( y=['dbe','pbj','bil','qqq', 'xlb'], figsize=(12,9))\n",
        "plt.suptitle('Portfolió eszközök ára')\n",
        "plt.ylabel('Megtérülés')\n",
        "plt.xlabel('Dátum')\n",
        "plt.savefig(\"assets-return.png\") \n",
        "plt.show()\n"
      ],
      "metadata": {
        "id": "hthTbi36Umez",
        "colab": {
          "base_uri": "https://localhost:8080/",
          "height": 579
        },
        "outputId": "86be34c9-e99f-4589-f231-ae91700c5a35"
      },
      "execution_count": 188,
      "outputs": [
        {
          "output_type": "display_data",
          "data": {
            "text/plain": [
              "<Figure size 864x648 with 1 Axes>"
            ],
            "image/png": "[encoded data removed]"
          },
          "metadata": {
            "needs_background": "light"
          }
        }
      ]
    },
    {
      "cell_type": "code",
      "source": [
        "plt.figure(figsize=(12, 9))\n",
        "plt.suptitle('Kockázatmentes', fontsize=15)\n",
        "df_ret['yc'].plot()\n",
        "plt.ylabel('Return', fontsize=15)\n",
        "plt.xlabel('Dátum', fontsize=15)\n",
        "plt.savefig(\"yc_return.png\") \n",
        "plt.show()"
      ],
      "metadata": {
        "id": "XBnC4G65UmhA",
        "colab": {
          "base_uri": "https://localhost:8080/",
          "height": 584
        },
        "outputId": "91d223a0-e0f2-45fd-dcb0-052c1df3062b"
      },
      "execution_count": 199,
      "outputs": [
        {
          "output_type": "display_data",
          "data": {
            "text/plain": [
              "<Figure size 864x648 with 1 Axes>"
            ],
            "image/png": "[encoded data removed]"
          },
          "metadata": {
            "needs_background": "light"
          }
        }
      ]
    },
    {
      "cell_type": "code",
      "source": [],
      "metadata": {
        "id": "4xHrLBNNUmlE"
      },
      "execution_count": null,
      "outputs": []
    }
  ],
  "metadata": {
    "colab": {
      "collapsed_sections": [
        "RlBFgHTxD6Ko"
      ],
      "provenance": [],
      "include_colab_link": true
    },
    "kernelspec": {
      "display_name": "Python 3",
      "name": "python3"
    },
    "language_info": {
      "name": "python"
    }
  },
  "nbformat": 4,
  "nbformat_minor": 0
}