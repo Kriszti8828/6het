{
  "cells": [
    {
      "cell_type": "markdown",
      "metadata": {
        "id": "view-in-github",
        "colab_type": "text"
      },
      "source": [
        "<a href=\"https://colab.research.google.com/github/Kriszti8828/6het/blob/mergel/beadando_maxmin_ipynb_m%C3%A1solata.ipynb\" target=\"_parent\"><img src=\"https://colab.research.google.com/assets/colab-badge.svg\" alt=\"Open In Colab\"/></a>"
      ]
    },
    {
      "cell_type": "markdown",
      "source": [
        "####Package-ek importálása"
      ],
      "metadata": {
        "id": "kkTHEjPHidl1"
      }
    },
    {
      "cell_type": "code",
      "execution_count": null,
      "metadata": {
        "id": "ZAQtMr-4Emdy"
      },
      "outputs": [],
      "source": [
        "import csv\n",
        "import pandas as pd\n",
        "import numpy as np\n",
        "import matplotlib.pyplot as plt\n",
        "\n",
        "import seaborn as sns\n",
        "\n",
        "import scipy"
      ]
    },
    {
      "cell_type": "code",
      "execution_count": null,
      "metadata": {
        "id": "I8FzSgvMEuik"
      },
      "outputs": [],
      "source": [
        "from google.colab import drive\n",
        "drive.mount('/content/drive')"
      ]
    },
    {
      "cell_type": "markdown",
      "source": [
        "###Adatbázisok importálása, tisztítás"
      ],
      "metadata": {
        "id": "EUOaTpI0ilRe"
      }
    },
    {
      "cell_type": "code",
      "execution_count": null,
      "metadata": {
        "id": "P2tmEFEHEwmc"
      },
      "outputs": [],
      "source": [
        "#Adatbázisok importálása\n",
        "df_dbe=pd.read_csv('/content/drive/My Drive/numpu4/beadando_etfs/DBE.csv') #DBE\n",
        "df_pbj=pd.read_csv('/content/drive/My Drive/numpu4/beadando_etfs/PBJ.csv') #PBJ\n",
        "df_xlb=pd.read_csv('/content/drive/My Drive/numpu4/beadando_etfs/XLB.csv') #XLB\n",
        "df_bil=pd.read_csv('/content/drive/My Drive/numpu4/beadando_etfs/BIL.csv') #BIl\n",
        "df_qqq=pd.read_csv('/content/drive/My Drive/numpu4/beadando_etfs/QQQ.csv') #QQQ\n"
      ]
    },
    {
      "cell_type": "code",
      "execution_count": null,
      "metadata": {
        "id": "v8CEW9CKE6az"
      },
      "outputs": [],
      "source": [
        "#YC importálása\n",
        "df_yc=pd.read_csv('/content/drive/My Drive/numpu4/beadando_etfs/DGS3MO.csv')\n",
        "#df_yc.head()\n",
        "#az értelmezhetetlen karakter eliminációja, számmá alakítás\n",
        "df_yc['DGS3MO']=df_yc['DGS3MO'].replace('.',10000).astype(float)\n",
        "df_yc['DGS3MO']=df_yc['DGS3MO'].astype(float)\n",
        "\n",
        "#És a nagy szám helyett a két szomszédos elem átlagának a beírása\n",
        "for i in range(len(df_yc)):\n",
        "  if df_yc['DGS3MO'][i]==10000:\n",
        "    df_yc['DGS3MO'][i]=(df_yc['DGS3MO'][i-1]+df_yc['DGS3MO'][i+1])/2\n",
        "  if df_yc['DGS3MO'][i]==0:\n",
        "    df_yc['DGS3MO'][i]==df_yc['DGS3MO'][i-1]\n",
        "\n",
        "\n"
      ]
    },
    {
      "cell_type": "code",
      "execution_count": null,
      "metadata": {
        "id": "seOXxiKnE-6J"
      },
      "outputs": [],
      "source": [
        "#A megfelelő hozamok közö dataframebe illesztése\n",
        "#Az üres df. létrehozása\n",
        "df_hozam=pd.DataFrame(columns={'Date','dbe','pbj','xlb','bil','qqq','yc'})\n",
        "#Feltöltés a dátummal\n",
        "df_hozam['Date']=df_qqq['Date'].copy()"
      ]
    },
    {
      "cell_type": "code",
      "execution_count": null,
      "metadata": {
        "id": "yjf9oGTNFSWw"
      },
      "outputs": [],
      "source": [
        "#Feltöltés az ETF-ek adj. close adatával\n",
        "df_hozam['dbe']=df_dbe['Adj Close'].copy()\n",
        "df_hozam['pbj']=df_pbj['Adj Close'].copy()\n",
        "df_hozam['xlb']=df_xlb['Adj Close'].copy()\n",
        "df_hozam['bil']=df_bil['Adj Close'].copy()\n",
        "df_hozam['qqq']=df_qqq['Adj Close'].copy()\n",
        "\n",
        "#és a hozamgörbével\n",
        "df_hozam['yc']=df_yc['DGS3MO'].copy()\n"
      ]
    },
    {
      "cell_type": "code",
      "execution_count": null,
      "metadata": {
        "id": "5KwOdSVYKDaX"
      },
      "outputs": [],
      "source": [
        "#A dátum szerint indexelünk\n",
        "df_hozam=df_hozam.set_index('Date')\n",
        "df_hozam.index = pd.to_datetime(df_hozam.index)"
      ]
    },
    {
      "cell_type": "code",
      "execution_count": null,
      "metadata": {
        "id": "UrRpxVMYGXqz"
      },
      "outputs": [],
      "source": [
        "#Ellenőrzés\n",
        "df_hozam.head(20)"
      ]
    },
    {
      "cell_type": "code",
      "execution_count": null,
      "metadata": {
        "id": "oUSxBuDIGadZ"
      },
      "outputs": [],
      "source": [
        "#a hozam kiszámítása\n",
        "df_ret=pd.DataFrame(columns={'dbe','pbj','xlb','bil','qqq','yc'})\n",
        "df_ret['dbe']=df_hozam['dbe']/df_hozam['dbe'].shift(1)-1\n",
        "df_ret['pbj']=df_hozam['pbj']/df_hozam['pbj'].shift(1)-1\n",
        "df_ret['xlb']=df_hozam['xlb']/df_hozam['xlb'].shift(1)-1\n",
        "df_ret['bil']=df_hozam['bil']/df_hozam['bil'].shift(1)-1\n",
        "df_ret['qqq']=df_hozam['qqq']/df_hozam['qqq'].shift(1)-1\n",
        "df_ret['yc']=(df_hozam['yc']+1)/(df_hozam['yc']+1).shift(1)-1\n"
      ]
    },
    {
      "cell_type": "code",
      "execution_count": null,
      "metadata": {
        "id": "ui_SpHGGH9hx"
      },
      "outputs": [],
      "source": [
        "#A dátum szerint indexelünk\n",
        "df_ret.index = pd.to_datetime(df_ret.index)"
      ]
    },
    {
      "cell_type": "code",
      "execution_count": null,
      "metadata": {
        "id": "NGwisK1ZHxJu"
      },
      "outputs": [],
      "source": [
        "#Ellenőrzés\n",
        "df_ret.head(10)"
      ]
    },
    {
      "cell_type": "code",
      "execution_count": null,
      "metadata": {
        "id": "9jr149NGYvuA"
      },
      "outputs": [],
      "source": [
        "#A hozamgörbe manipulálása\n",
        "from math import nan\n",
        "#df_ret['yc'].plot()\n",
        "for i in range(len(df_ret['yc'])):\n",
        "  if df_ret['yc'][i]==np.NaN:\n",
        "    df_ret['yc'][i]=0\n",
        "  if df_ret['yc'][i]<-100:\n",
        "    df_ret['yc'][i]=0\n",
        "  if df_ret['yc'][i]>100:\n",
        "    df_ret['yc'][i]=0"
      ]
    },
    {
      "cell_type": "code",
      "execution_count": null,
      "metadata": {
        "id": "wAhWtWZMaAdz"
      },
      "outputs": [],
      "source": [
        "#Ellenőző plot az etf-ekhez\n",
        "df_ret['xlb'].plot(linewidth=0.3)"
      ]
    },
    {
      "cell_type": "code",
      "execution_count": null,
      "metadata": {
        "id": "CBzuKFzAaiI4"
      },
      "outputs": [],
      "source": [
        "print(df_ret['yc'][0:252*5].mean()*252)"
      ]
    },
    {
      "cell_type": "code",
      "execution_count": null,
      "metadata": {
        "id": "E4RJhob9H0ko"
      },
      "outputs": [],
      "source": [
        "#A végtelen és a 0 adatok kezelése\n",
        "df_ret=df_ret.replace(np.inf,np.nan).astype(float)"
      ]
    },
    {
      "cell_type": "code",
      "execution_count": null,
      "metadata": {
        "id": "InyT1xO1IkMA"
      },
      "outputs": [],
      "source": [
        "#Az yc nélküli hozamok, adatbázis\n",
        "df_hozam2=df_hozam.copy()\n",
        "#df_hozam2.head()\n",
        "df_hozam2=df_hozam2.drop(['yc'], axis=1)\n",
        "df_hozam_gsh=df_hozam2.copy() #Adatbázis a globális Sharpe-rátához\n",
        "df_hozam_lsh=df_hozam2.copy() #Adatbázis a csúszóablakos Sharpe-rátához"
      ]
    },
    {
      "cell_type": "markdown",
      "metadata": {
        "id": "Sir4wKyGImwz"
      },
      "source": [
        "###Sharpe ráta, globális"
      ]
    },
    {
      "cell_type": "markdown",
      "metadata": {
        "id": "IMP-pPm1G6yq"
      },
      "source": [
        "#####A 10-11. órán felépített kódokat használva:"
      ]
    },
    {
      "cell_type": "code",
      "execution_count": null,
      "metadata": {
        "id": "v2sZMDAgORST"
      },
      "outputs": [],
      "source": [
        "def minden(price_df,w):\n",
        "  return_asset = price_df/price_df.shift(1)-1\n",
        "  mean_asset = return_asset.mean() * 252       #évestett átlag\n",
        "  std_asset = return_asset.std() * np.sqrt(252)  #évesített szórás\n",
        "  cov_asset = return_asset.cov() * 252\n",
        "  corr_asset = return_asset.corr()\n",
        "\n",
        "#Itt jön be a calc nasset mean és cov\n",
        "\n",
        "  #N eszköz átlagos hozama, a megfelelő súlyokkal\n",
        "  calc_nasset_mean=np.sum(w*mean_asset)    #2 vektor elemenkénti szorzata --> összeadjuk\n",
        "\n",
        "  #n eszköz kovarianciája a megfelelő súlyokkal\n",
        "  calc_nasset_cov=np.sqrt(np.dot(np.dot(w,cov_asset), w.transpose()))   #np.dot  mátrix szorzat\n",
        "\n",
        "  #A return és a szórás meghatározása\n",
        "  ret = calc_nasset_mean\n",
        "  std = calc_nasset_cov\n",
        "  #Kockázatmentes hozamgörbe  \n",
        "  \n",
        " \n",
        "  return ret, std\n"
      ]
    },
    {
      "cell_type": "code",
      "execution_count": null,
      "metadata": {
        "id": "aB_78zgMG9kE"
      },
      "outputs": [],
      "source": [
        "ww=np.array([0,0,0,1,0])\n",
        "#A fenti függvény behívása\n",
        "rreturn, standev =minden(df_hozam_gsh, ww)\n"
      ]
    },
    {
      "cell_type": "code",
      "execution_count": null,
      "metadata": {
        "id": "qzY5iZr3R7JP"
      },
      "outputs": [],
      "source": [
        "#Teszt, vektorok\n",
        "print(rreturn)\n",
        "print(standev)\n",
        "print(rreturn/standev)"
      ]
    },
    {
      "cell_type": "code",
      "source": [
        "#Kockázatmentes hozam\n",
        "kockment=(df_ret['yc']).mean()*252"
      ],
      "metadata": {
        "id": "Yooq2ugieOH8"
      },
      "execution_count": null,
      "outputs": []
    },
    {
      "cell_type": "markdown",
      "metadata": {
        "id": "cHPJQABRY7o9"
      },
      "source": [
        "#####Optimalizálás"
      ]
    },
    {
      "cell_type": "code",
      "execution_count": null,
      "metadata": {
        "id": "14msritmY-FP"
      },
      "outputs": [],
      "source": [
        "#A célfüggvény\n",
        "def elsoopt(ww):\n",
        "  a1,a2=minden(df_hozam_gsh,ww)\n",
        "  Sh_rate=(a1-kockment)/a2\n",
        "  return Sh_rate"
      ]
    },
    {
      "cell_type": "code",
      "execution_count": null,
      "metadata": {
        "id": "eIgMFMmdZfL-"
      },
      "outputs": [],
      "source": [
        "fun1 = lambda x: 100-elsoopt(x) #ide proba(x) is jöhet tesztelni"
      ]
    },
    {
      "cell_type": "code",
      "execution_count": null,
      "metadata": {
        "id": "mfPTLiGbZuA5"
      },
      "outputs": [],
      "source": [
        "bounds=((0,None),(0,None),(0,None),(0,None),(0,None))\n",
        "cons=({'type': 'eq', 'fun': lambda ww: np.sum(ww)-1})"
      ]
    },
    {
      "cell_type": "code",
      "execution_count": null,
      "metadata": {
        "id": "RldT6d4CZ0cL"
      },
      "outputs": [],
      "source": [
        "#Az optimalizálás (~3 min volt nekem)\n",
        "megoldas1_1=scipy.optimize.minimize(fun1, (0.5,0.2,0.1,0.0,0), method='SLSQP',\n",
        "                        bounds=bounds,\n",
        "                        constraints=cons)"
      ]
    },
    {
      "cell_type": "code",
      "execution_count": null,
      "metadata": {
        "id": "LE8R6u0_Z_98"
      },
      "outputs": [],
      "source": [
        "#Az optimalizálás eredménye\n",
        "print(megoldas1_1)"
      ]
    },
    {
      "cell_type": "code",
      "execution_count": null,
      "metadata": {
        "id": "nuLRTG2Vaj9c"
      },
      "outputs": [],
      "source": [
        "#És az eredménnyel számolt hozam\n",
        "rreturn, standev=minden(df_hozam_gsh,megoldas1_1['x'])\n",
        "#A kapott Sharpe-ráta\n",
        "print((rreturn-0.01)/standev)\n",
        "#Ellenőrzés: az öszeg valóban 1\n",
        "print(sum(megoldas1_1['x']))\n",
        "#A kapott hozam\n",
        "print(elsoopt(megoldas1_1['x']))"
      ]
    },
    {
      "cell_type": "markdown",
      "metadata": {
        "id": "tfxTf4fmt-up"
      },
      "source": [
        "##Csúszóablakos Shapre ráta\n"
      ]
    },
    {
      "cell_type": "code",
      "execution_count": null,
      "metadata": {
        "id": "4NfS2_12uGEi"
      },
      "outputs": [],
      "source": [
        "def masodikopt(start,stop): #A fenti függvény általánosítása az időablakokhoz\n",
        "#  start=5\n",
        "#  stop=25\n",
        "  megoldas1_1=[]\n",
        "  \n",
        "\n",
        "  \n",
        "  for i in range(start,stop):\n",
        "    \n",
        "    kockment=(df_ret['yc'][(start+i):(start+i+5*252)]).mean()*252 #évesített, 5 éves ablakot néz\n",
        "    def celfv(ww):\n",
        "        a1,a2=minden(df_hozam_gsh[i:(i+5*252)],ww)\n",
        "        Sh_rate=(a1-kockment)/a2      \n",
        "        return Sh_rate\n",
        "\n",
        "    funa = lambda x: 100-celfv(x) #max: Szám-x akkor min., ha x max.\n",
        "    bounds=((0,None),(0,None),(0,None),(0,None),(0,None))\n",
        "    cons=({'type': 'eq', 'fun': lambda ww: np.sum(ww)-1})\n",
        "\n",
        "    megoldas1_a=scipy.optimize.minimize(funa, (0.5,0.2,0.1,0.0,0), method='SLSQP',\n",
        "                          bounds=bounds,\n",
        "                          constraints=cons)\n",
        "    megoldas1_1.append(megoldas1_a['x'])\n",
        "  #for i in len(megolda)\n",
        "  return megoldas1_1"
      ]
    },
    {
      "cell_type": "code",
      "execution_count": null,
      "metadata": {
        "id": "pK-YgaIyvzgC"
      },
      "outputs": [],
      "source": [
        "tesztsok=masodikopt(1,len(df_hozam2['bil']-5*252-1)) #A LE NE FUTTASD! #A futásidő ~8 perc\n",
        "#print(tesztsok)\n",
        "print(df_hozam_gsh.head(4))"
      ]
    },
    {
      "cell_type": "code",
      "execution_count": null,
      "metadata": {
        "id": "JzLmfgoMyf-s"
      },
      "outputs": [],
      "source": [
        "megoldas1_2=pd.DataFrame(columns={'x1','x2','x3','x4','x5'}) #A kapott megoldás táblázattá alakítása\n",
        "megoldas1_2['x1']=np.zeros(len(tesztsok))\n",
        "megoldas1_2['x2']=np.zeros(len(tesztsok))\n",
        "megoldas1_2['x3']=np.zeros(len(tesztsok))\n",
        "megoldas1_2['x4']=np.zeros(len(tesztsok))\n",
        "megoldas1_2['x5']=np.zeros(len(tesztsok))\n",
        "for i in range(len(tesztsok)):\n",
        "  megoldas1_2['x1'][i]=tesztsok[i][0]\n",
        "  megoldas1_2['x2'][i]=tesztsok[i][1]\n",
        "  megoldas1_2['x3'][i]=tesztsok[i][2]\n",
        "  megoldas1_2['x4'][i]=tesztsok[i][3]\n",
        "  megoldas1_2['x5'][i]=tesztsok[i][4]"
      ]
    },
    {
      "cell_type": "code",
      "source": [
        "#Az eredmények csv-re mentése:\n",
        "with open('megoldas1_2.csv', 'w') as file:\n",
        "    writer = csv.writer(file)\n",
        "    writer.writerow(megoldas1_2)\n",
        "print(megoldas1_2)"
      ],
      "metadata": {
        "id": "_hmo80vkvftY"
      },
      "execution_count": null,
      "outputs": []
    },
    {
      "cell_type": "code",
      "execution_count": null,
      "metadata": {
        "id": "DVbde-FJzaAm"
      },
      "outputs": [],
      "source": [
        "megoldas1_2=pd.read_csv('/content/drive/My Drive/numpu4/beadando_etfs/megoldas1_2.csv') #Hogy ne kelljen mindig újrafuttatni, itt a korábban megkapott optimumot hívjuk be\n",
        "print(megoldas1_2)\n"
      ]
    },
    {
      "cell_type": "code",
      "execution_count": null,
      "metadata": {
        "id": "yY--7JvRy_EG"
      },
      "outputs": [],
      "source": [
        "#x=df_bil['Date']\n",
        "ay = megoldas1_2['x1'] #pbj\n",
        "by = megoldas1_2['x2'] #dbe\n",
        "cy = megoldas1_2['x3'] #xlb\n",
        "dy = megoldas1_2['x4'] #qqq\n",
        "ey = megoldas1_2['x5'] #bil\n",
        "y = np.vstack([ay, by, cy,dy,ey])\n",
        "sulyok=np.array([ay, by, cy,dy,ey])\n",
        "# plot\n",
        "fig, ax = plt.subplots(figsize=(10,7))\n",
        "x=df_bil['Date'][0:len(ay)]\n",
        "plt.xlim=(x)\n",
        "ax.stackplot(megoldas1_2.index, y)\n",
        "plt.legend(['xlb','dbe','bil','qqq','pbj'])\n",
        "plt.suptitle('Sharpe-ráta gördülő súlyok')\n",
        "plt.ylabel('%')\n",
        "plt.savefig(\"gordulosharpe.png\") \n",
        "plt.show()"
      ]
    },
    {
      "cell_type": "code",
      "source": [
        "###################Returnök kiszámítása"
      ],
      "metadata": {
        "id": "LmlFe6nAb96e"
      },
      "execution_count": null,
      "outputs": []
    },
    {
      "cell_type": "code",
      "source": [
        "#Returnök visszaadása: üres adatbázis létrehozása\n",
        "gordreturn=pd.DataFrame(columns={'return'})\n",
        "gordreturn['return']=np.zeros(len(sulyok[0]))"
      ],
      "metadata": {
        "id": "0QYCJzVEfa2Y"
      },
      "execution_count": null,
      "outputs": []
    },
    {
      "cell_type": "code",
      "source": [
        "#Ellenőrzés\n",
        "df_ret.head(3)"
      ],
      "metadata": {
        "id": "dxdl-yGOOMKQ"
      },
      "execution_count": null,
      "outputs": []
    },
    {
      "cell_type": "code",
      "source": [
        "#A súlyfüggvények\n",
        "print(sulyok)"
      ],
      "metadata": {
        "id": "9Kvh81mhNzJn"
      },
      "execution_count": null,
      "outputs": []
    },
    {
      "cell_type": "code",
      "source": [
        "#A súlyfüggvények np. array-é alakítása, mert így tud lefutni a 'minden' kód\n",
        "df_suly1_2=megoldas1_2[['x1','x2','x3','x4','x5']]\n",
        "sulyarray=[]\n",
        "\n",
        "for i in range(len(df_suly1_2['x1'])):\n",
        "  sulyarray.append([])\n",
        "  for j in range(5):\n",
        "    sulyarray[i].append(df_suly1_2[df_suly1_2.columns[j]][i])\n",
        "  sulyarray[i]=np.array(sulyarray[i])"
      ],
      "metadata": {
        "id": "td16FBMyXi3n"
      },
      "execution_count": null,
      "outputs": []
    },
    {
      "cell_type": "code",
      "source": [
        "#Ellenőrzés: valóban np. array\n",
        "print(type(sulyarray[1]))"
      ],
      "metadata": {
        "id": "D9pd4jGNYBac"
      },
      "execution_count": null,
      "outputs": []
    },
    {
      "cell_type": "code",
      "source": [
        "#A returnök kiszámolása a csúszóablakos módszernél\n",
        "gordreturn['return']=np.zeros(len(megoldas1_2['x1']))\n",
        "for i in range(len(megoldas1_2['x1'])):  \n",
        "  gordreturn['return'][i]=minden(df_hozam_gsh[i:(i+5*252)],sulyarray[i])[0]\n",
        "  #df_ret[df_ret.columns[1]]*megoldas1_2['x1'][i] #pbj #az index 1-nél indul, mert a 0. az yc\n",
        "  "
      ],
      "metadata": {
        "id": "V9k5nxGphObZ"
      },
      "execution_count": null,
      "outputs": []
    },
    {
      "cell_type": "code",
      "source": [
        "#Dátum hozzáadása\n",
        "gordreturn['Date']=df_bil['Date'][0:len(gordreturn['return'])]\n",
        "print(gordreturn.head(4))\n",
        "gordreturn=gordreturn.set_index('Date')\n",
        "gordreturn.index = pd.to_datetime(gordreturn.index)"
      ],
      "metadata": {
        "id": "2QW_kK1QgEft"
      },
      "execution_count": null,
      "outputs": []
    },
    {
      "cell_type": "code",
      "source": [
        "#A csúszóablakos optimális returnök ábrázolása\n",
        "gordreturn['return'][1:3600].plot()\n",
        "plt.figure(figsize=(12, 9))\n",
        "plt.suptitle('Portfólió alakulása')\n",
        "plt.ylabel('Hozam')\n",
        "plt.xlabel('Dátum')\n",
        "plt.savefig(\"returngordsharpe.png\") \n",
        "plt.show()"
      ],
      "metadata": {
        "id": "vFXGviQLZnMh"
      },
      "execution_count": null,
      "outputs": []
    },
    {
      "cell_type": "code",
      "source": [
        "#minden(df_hozam_gsh[1:(1+5*252)],df_suly1_2[1:(1+1)])\n",
        "minden(df_hozam_gsh,np.array([1,0,0,0,0]))"
      ],
      "metadata": {
        "id": "x5RAf5AwTv9N"
      },
      "execution_count": null,
      "outputs": []
    },
    {
      "cell_type": "markdown",
      "metadata": {
        "id": "wUJN3QrGOj8W"
      },
      "source": [
        "##minmax"
      ]
    },
    {
      "cell_type": "markdown",
      "metadata": {
        "id": "vPCbIVCnrSPV"
      },
      "source": [
        "#####Adatbázis kialakítása"
      ]
    },
    {
      "cell_type": "markdown",
      "source": [
        "######A fentiektől eltérően itt naponta kell hozamot vizsgálni (a min. max. drawdownhoz), "
      ],
      "metadata": {
        "id": "007rKUXzloIw"
      }
    },
    {
      "cell_type": "code",
      "execution_count": null,
      "metadata": {
        "id": "5cr-2ftOOn9q"
      },
      "outputs": [],
      "source": [
        "#Súlyok\n",
        "w=[0,1,0,0,0]"
      ]
    },
    {
      "cell_type": "code",
      "execution_count": null,
      "metadata": {
        "id": "GSZbgCRORK5E"
      },
      "outputs": [],
      "source": [
        "print(df_hozam2)"
      ]
    },
    {
      "cell_type": "code",
      "execution_count": null,
      "metadata": {
        "id": "w96sDzxMOtqQ"
      },
      "outputs": [],
      "source": [
        "#Létrehozunk egy eredmény oszlopot a súlyokkal számolt returnhöz\n",
        "df_hozam2['eredmeny']=0\n",
        "print(df_hozam2['eredmeny'])"
      ]
    },
    {
      "cell_type": "code",
      "execution_count": null,
      "metadata": {
        "id": "TPp_KtoXPQ_9"
      },
      "outputs": [],
      "source": [
        "#Feltöltjük\n",
        "df_hozam2['eredmeny']=df_hozam2['eredmeny']+df_ret['dbe']*w[0]\n",
        "df_hozam2['eredmeny']=df_hozam2['eredmeny']+df_ret['qqq']*w[1]\n",
        "df_hozam2['eredmeny']=df_hozam2['eredmeny']+df_ret['pbj']*w[2]\n",
        "df_hozam2['eredmeny']=df_hozam2['eredmeny']+df_ret['xlb']*w[3]\n",
        "df_hozam2['eredmeny']=df_hozam2['eredmeny']+df_ret['bil']*w[4]\n"
      ]
    },
    {
      "cell_type": "code",
      "execution_count": null,
      "metadata": {
        "id": "yCQDG34SyX4m"
      },
      "outputs": [],
      "source": [
        "#2. lehetőség: for ciklust írunk rá\n",
        "df_hozam3=pd.DataFrame(columns={'eredmeny'})\n",
        "df_hozam3['eredmeny']=df_hozam2['eredmeny'].copy()\n",
        "df_hozam3['eredmeny']=0\n",
        "print(df_hozam3.head(5))"
      ]
    },
    {
      "cell_type": "code",
      "execution_count": null,
      "metadata": {
        "id": "OKAJdn2hyIXX"
      },
      "outputs": [],
      "source": [
        "#Feltöltjük a skalárszorzatokkal\n",
        "for i in range(len(df_hozam2.columns)-2):\n",
        "  df_hozam3['eredmeny']=df_hozam3['eredmeny']+df_ret[df_hozam2.columns[i]]*w[i]\n",
        "\n",
        "print(df_hozam3['eredmeny'])"
      ]
    },
    {
      "cell_type": "code",
      "execution_count": null,
      "metadata": {
        "id": "6wfGyLyUulbD"
      },
      "outputs": [],
      "source": [
        "#oszlop meghatározása\n",
        "#df_hozam2.columns[1]\n",
        "#df_hozam2[df_hozam2.columns[1]]\n"
      ]
    },
    {
      "cell_type": "code",
      "execution_count": null,
      "metadata": {
        "id": "lV3JddlHPb9L"
      },
      "outputs": [],
      "source": [
        "#Teszt\n",
        "print(df_hozam2['eredmeny'])"
      ]
    },
    {
      "cell_type": "code",
      "execution_count": null,
      "metadata": {
        "id": "qiPc2evmVc8D"
      },
      "outputs": [],
      "source": []
    },
    {
      "cell_type": "code",
      "execution_count": null,
      "metadata": {
        "id": "p6hLewtaUvp0"
      },
      "outputs": [],
      "source": [
        "#A portfólió hozamának a kiszámítása\n",
        "df_hozam2['return']=np.zeros\n",
        "df_hozam2['return'][0]=1\n",
        "\n",
        "df_hozam2['return']=df_hozam2['eredmeny']\n",
        "df_hozam2['return'][0]=1\n",
        "df_hozam2['return'][1]=df_hozam2['return'][0]*(1+df_hozam2['eredmeny'][1])\n",
        "\n",
        "\n",
        "\n",
        "for i in range(len(df_hozam2['eredmeny'])-1):\n",
        "  df_hozam2['return'][i+1]=(df_hozam2['eredmeny'][i+1]+1)*df_hozam2['return'][i]"
      ]
    },
    {
      "cell_type": "code",
      "execution_count": null,
      "metadata": {
        "id": "0Rx6CPKxbNAP"
      },
      "outputs": [],
      "source": [
        "#df_hozam2['return']=df_hozam2['eredmeny']\n",
        "#for i in range(len(df_hozam2['eredmeny'])-1):\n",
        "#  df_hozam2['return'][i]=df_hozam2['eredmeny'][i+1]*df_hozam2['eredmeny'][i]"
      ]
    },
    {
      "cell_type": "code",
      "execution_count": null,
      "metadata": {
        "id": "KuK6p8sQaaP_"
      },
      "outputs": [],
      "source": []
    },
    {
      "cell_type": "code",
      "execution_count": null,
      "metadata": {
        "id": "his7IIKvT4Q2"
      },
      "outputs": [],
      "source": [
        "#Ellenőrzések\n",
        "#print(df_hozam2['return'],df_hozam2['eredmeny'])\n",
        "#df_hozam2[['eredmeny','return']].plot()\n",
        "df_hozam2[['return','eredmeny']].plot(title=\"A portfólió hozama, és az egyes időszakok eredménye\")\n",
        "plt.show()\n"
      ]
    },
    {
      "cell_type": "code",
      "execution_count": null,
      "metadata": {
        "id": "8B_YYnt-Q28R"
      },
      "outputs": [],
      "source": [
        "#A legiksebb és legnagyobb érték kiszámolása\n",
        "#kicsi=min(df_hozam2['return'])\n",
        "#nagy=max(df_hozam2['return'])\n",
        "#print(nagy-kicsi)"
      ]
    },
    {
      "cell_type": "code",
      "execution_count": null,
      "metadata": {
        "id": "p9kHnMXMcQWg"
      },
      "outputs": [],
      "source": []
    },
    {
      "cell_type": "code",
      "execution_count": null,
      "metadata": {
        "id": "n-LXmQYogfgN"
      },
      "outputs": [],
      "source": [
        "def hozamdf(df1,df2, ww):\n",
        "\n",
        "  adatsor=df1.copy() #így annyi sorból áll, mint az eredeti df\n",
        "  adatsor['eredmeny']=0\n",
        "  for i in range(len(df1.columns)-2):\n",
        "    adatsor['eredmeny']=adatsor['eredmeny']+df2[df1.columns[i]]*ww[i] #a súlyokkal súlyozunk, hogy megfelelő legyen a hozam\n",
        "\n",
        "\n",
        "  adatsor['return']=np.zeros\n",
        "  adatsor['return'][0]=1\n",
        "  adatsor['return'][1]=adatsor['return'][0]*(1+adatsor['eredmeny'][1]) #kiszámítjuk a hozamot\n",
        "\n",
        "  for i in range(len(adatsor['eredmeny'])-1):\n",
        "    adatsor['return'][i+1]=(adatsor['eredmeny'][i+1]+1)*adatsor['return'][i]\n",
        "\n",
        "  return adatsor['return']"
      ]
    },
    {
      "cell_type": "code",
      "execution_count": null,
      "metadata": {
        "id": "Vf4KZJ0kh7x2"
      },
      "outputs": [],
      "source": []
    },
    {
      "cell_type": "code",
      "execution_count": null,
      "metadata": {
        "id": "v2jCvifeh9tw"
      },
      "outputs": [],
      "source": [
        "#Ellenőrzés\n",
        "qq=hozamdf(df_hozam2,df_ret,w)\n",
        "#print(qq.head(-5))\n",
        "fig=qq.plot(title=\"A portfólió hozamának alakulása az adott w súlyokkal\",\n",
        "            )\n",
        "#fig.legend=\"return\"\n",
        "\n",
        "plt.show(fig)"
      ]
    },
    {
      "cell_type": "code",
      "execution_count": null,
      "metadata": {
        "id": "MN4pF5UCiS0z"
      },
      "outputs": [],
      "source": [
        "def maxmin(ww):\n",
        "  qq=hozamdf(df_hozam2,df_ret,ww)\n",
        "  kicsi=min(qq)\n",
        "  a=0 \n",
        "  for i in qq:\n",
        "    a=a+1\n",
        "    if i == kicsi: \n",
        "      break\n",
        "  nagy=0\n",
        "  for j in range(0,a):\n",
        "    if qq[j]>nagy:\n",
        "      nagy=qq[j]\n",
        "  return (nagy-kicsi)/nagy\n"
      ]
    },
    {
      "cell_type": "code",
      "execution_count": null,
      "metadata": {
        "id": "r1CLr0Xe6MO4"
      },
      "outputs": [],
      "source": [
        "drawd=maxmin(w)\n",
        "print(drawd)"
      ]
    },
    {
      "cell_type": "markdown",
      "metadata": {
        "id": "ho4f-2khEhIG"
      },
      "source": [
        "####Optimalizálás"
      ]
    },
    {
      "cell_type": "code",
      "execution_count": null,
      "metadata": {
        "id": "mXM-D3qT6QTt"
      },
      "outputs": [],
      "source": [
        "#Szükséges package-ek importálása\n",
        "import seaborn as sns\n",
        "\n",
        "import scipy"
      ]
    },
    {
      "cell_type": "code",
      "execution_count": null,
      "metadata": {
        "id": "4yusTrekARQP"
      },
      "outputs": [],
      "source": []
    },
    {
      "cell_type": "code",
      "execution_count": null,
      "metadata": {
        "id": "SW_Wul6b_YWy"
      },
      "outputs": [],
      "source": [
        "#Egy egyszerűen ellenőrizhető példafüggvény\n",
        "def proba(ww):\n",
        "  return ww[0]/ww[1]+ww[2]+ww[3]+ww[4]"
      ]
    },
    {
      "cell_type": "code",
      "execution_count": null,
      "metadata": {
        "id": "RkPPD-kmASIN"
      },
      "outputs": [],
      "source": [
        "#Az optimalizálandó függvény\n",
        "fun3 = lambda x: maxmin(x) #ide proba(x) is jöhet tesztelni"
      ]
    },
    {
      "cell_type": "code",
      "execution_count": null,
      "metadata": {
        "id": "iXPCiXOV659Z"
      },
      "outputs": [],
      "source": [
        "#Határok és korlátok\n",
        "bounds=((0,None),(0,None),(0,None),(0,None),(0,None))\n",
        "cons=({'type': 'eq', 'fun': lambda ww: np.sum(ww)-1})"
      ]
    },
    {
      "cell_type": "code",
      "execution_count": null,
      "metadata": {
        "id": "pJFg3Rhq6oE_"
      },
      "outputs": [],
      "source": [
        "#Az optimalizálás (~3 min volt nekem)\n",
        "megoldas3=scipy.optimize.minimize(fun3, (0.1,0.1,0.1,0.1,0.6), method='SLSQP',\n",
        "                        bounds=bounds,\n",
        "                        constraints=cons)"
      ]
    },
    {
      "cell_type": "code",
      "execution_count": null,
      "metadata": {
        "id": "KY3b-YxhBRLx"
      },
      "outputs": [],
      "source": [
        "#Az eredmény\n",
        "print(megoldas3)"
      ]
    },
    {
      "cell_type": "code",
      "execution_count": null,
      "metadata": {
        "id": "oLQK1dkKDmw1"
      },
      "outputs": [],
      "source": [
        "#Ellenzőrzés\n",
        "sum(megoldas3['x'])"
      ]
    },
    {
      "cell_type": "code",
      "execution_count": null,
      "metadata": {
        "id": "1yxNz6ViEDlK"
      },
      "outputs": [],
      "source": [
        "#És a portfólió alakulása az időben\n",
        "drawd=maxmin(megoldas3['x'])\n",
        "print(drawd)\n"
      ]
    },
    {
      "cell_type": "code",
      "execution_count": null,
      "metadata": {
        "id": "LV4aau-zERPn"
      },
      "outputs": [],
      "source": [
        "qq=hozamdf(df_hozam2,df_ret,megoldas3['x'])\n",
        "#print(qq.head(-5))\n",
        "#qq.plot()\n",
        "print(min(qq))"
      ]
    },
    {
      "cell_type": "markdown",
      "metadata": {
        "id": "2Enq7OFU2WLg"
      },
      "source": [
        "####Optimalizálás más feltételekkel"
      ]
    },
    {
      "cell_type": "code",
      "execution_count": null,
      "metadata": {
        "id": "H8Cvo9372eQT"
      },
      "outputs": [],
      "source": [
        "cons2=({'type': 'eq', 'fun': lambda ww: np.sum(ww)-1},\n",
        "       {'type': 'ineq', 'fun': lambda ww: ww[1]-0.05})"
      ]
    },
    {
      "cell_type": "code",
      "execution_count": null,
      "metadata": {
        "id": "HzlXa2W420On"
      },
      "outputs": [],
      "source": [
        "#Az optimalizálás (~3 min volt nekem)\n",
        "megoldas3b=scipy.optimize.minimize(fun3, (0.1,0.1,0.1,0.1,0.6), method='SLSQP',\n",
        "                        bounds=bounds,\n",
        "                        constraints=cons2)"
      ]
    },
    {
      "cell_type": "code",
      "execution_count": null,
      "metadata": {
        "id": "o-HB-duc3FU7"
      },
      "outputs": [],
      "source": [
        "print(megoldas3b)"
      ]
    },
    {
      "cell_type": "markdown",
      "metadata": {
        "id": "muwhcfAJ-dOg"
      },
      "source": [
        "####Minmax csúszóablakosan"
      ]
    },
    {
      "cell_type": "code",
      "execution_count": null,
      "metadata": {
        "id": "Hd6075ir-c63"
      },
      "outputs": [],
      "source": []
    },
    {
      "cell_type": "code",
      "execution_count": null,
      "metadata": {
        "id": "lkW45-WO_Vqv"
      },
      "outputs": [],
      "source": []
    },
    {
      "cell_type": "code",
      "execution_count": null,
      "metadata": {
        "id": "SgzBn15T_HpE"
      },
      "outputs": [],
      "source": [
        "def negyedikopt(start,stop):\n",
        "#  start=5\n",
        "#  stop=25\n",
        "  megoldas1_1=[]\n",
        "  \n",
        "\n",
        "  \n",
        "  for k in range(start,stop):\n",
        "    \n",
        "    \n",
        "    def maxmin(ww):\n",
        "      qq=hozamdf(df_hozam2[(start+k):(start+5*252+k)],df_ret,ww)\n",
        "      kicsi=min(qq)\n",
        "      a=0 \n",
        "      for i in qq:\n",
        "        a=a+1\n",
        "        if i == kicsi: \n",
        "          break\n",
        "      nagy=0\n",
        "      for j in range(0,a):\n",
        "        if qq[j]>nagy:\n",
        "          nagy=qq[j]\n",
        "      return (nagy-kicsi)/nagy\n",
        "    \n",
        "    funa = lambda x: maxmin(x) #ide proba(x) is jöhet tesztelni\n",
        "    bounds=((0,None),(0,None),(0,None),(0,None),(0,None))\n",
        "    cons=({'type': 'eq', 'fun': lambda ww: np.sum(ww)-1})\n",
        "\n",
        "    megoldas1_a=scipy.optimize.minimize(funa, (0.5,0.2,0.1,0.0,0), method='SLSQP',\n",
        "                          bounds=bounds,\n",
        "                          constraints=cons)\n",
        "    megoldas1_1.append(megoldas1_a['x'])\n",
        "  #for i in len(megolda)\n",
        "  return megoldas1_1"
      ]
    },
    {
      "cell_type": "code",
      "execution_count": null,
      "metadata": {
        "id": "-n1rV3RaAJ5o"
      },
      "outputs": [],
      "source": [
        "#teszt4=negyedikopt(200,250)"
      ]
    },
    {
      "cell_type": "code",
      "execution_count": null,
      "metadata": {
        "id": "qf4YjbrVAxat"
      },
      "outputs": [],
      "source": [
        "#print(teszt4)\n",
        "\n"
      ]
    },
    {
      "cell_type": "code",
      "source": [],
      "metadata": {
        "id": "qzDfyYvmasMD"
      },
      "execution_count": null,
      "outputs": []
    },
    {
      "cell_type": "code",
      "execution_count": null,
      "metadata": {
        "id": "ELU7ZXtGDrgx"
      },
      "outputs": [],
      "source": [
        "\n",
        "megoldas3_2=pd.DataFrame(columns={'x1','x2','x3','x4','x5'})\n",
        "megoldas3_2['x1']=np.zeros(len(tesztsok))\n",
        "megoldas3_2['x2']=np.zeros(len(tesztsok))\n",
        "megoldas3_2['x3']=np.zeros(len(tesztsok))\n",
        "megoldas3_2['x4']=np.zeros(len(tesztsok))\n",
        "megoldas3_2['x5']=np.zeros(len(tesztsok))\n",
        "for i in range(len(tesztsok)):\n",
        "  megoldas3_2['x1'][i]=tesztsok[i][0]\n",
        "  megoldas3_2['x2'][i]=tesztsok[i][1]\n",
        "  megoldas3_2['x3'][i]=tesztsok[i][2]\n",
        "  megoldas3_2['x4'][i]=tesztsok[i][3]\n",
        "  megoldas3_2['x5'][i]=tesztsok[i][4]"
      ]
    },
    {
      "cell_type": "code",
      "source": [
        "#print(megoldas3_2.head(5))\n",
        "megoldas3_2=pd.read_csv('/content/drive/My Drive/numpu4/beadando_etfs/megoldas3_2.csv')\n",
        "print(type(megoldas3_2['x3']))"
      ],
      "metadata": {
        "id": "LFliw8aWwiCf"
      },
      "execution_count": null,
      "outputs": []
    },
    {
      "cell_type": "code",
      "execution_count": null,
      "metadata": {
        "id": "obblGYYID4S7"
      },
      "outputs": [],
      "source": [
        "#x=df_bil['Date']\n",
        "ay = megoldas3_2['x1']\n",
        "by = megoldas3_2['x2']\n",
        "cy = megoldas3_2['x3']\n",
        "dy = megoldas3_2['x4']\n",
        "ey = megoldas3_2['x5']\n",
        "y = np.vstack([ay,  by, cy,dy,ey]) #y = np.vstack([ay, by, cy,dy,ey])\n",
        "\n",
        "# plot\n",
        "fig, ax = plt.subplots(figsize=(10,7))\n",
        "ax.stackplot(megoldas3_2.index, y)\n",
        "plt.legend(['xlb','bil','qqq','pbj','qqq'])\n",
        "plt.suptitle('Drawdown gördülő súlyok')\n",
        "plt.ylabel('%')\n",
        "plt.savefig(\"gordulodraw.png\") \n",
        "plt.show()"
      ]
    },
    {
      "cell_type": "code",
      "source": [],
      "metadata": {
        "id": "fd6KhQ1oiVp8"
      },
      "execution_count": null,
      "outputs": []
    },
    {
      "cell_type": "code",
      "source": [
        "#tesztsok cs-ve mentése:\n",
        "with open('megoldas3_2.csv', 'w') as file:\n",
        "    writer = csv.writer(file)\n",
        "    writer.writerow(megoldas3_2)\n",
        "print(megoldas3_2)"
      ],
      "metadata": {
        "id": "I_XisIsYaPnN"
      },
      "execution_count": null,
      "outputs": []
    },
    {
      "cell_type": "code",
      "source": [
        "from pathlib import Path  \n",
        "filepath = Path('/content/drive/My Drive/numpu4/beadando_etfs/megoldas3_2.csv')  #'/content/drive/My Drive/numpu4/beadando_etfs/DBE.csv'\n",
        "filepath.parent.mkdir(parents=True, exist_ok=True)  \n",
        "megoldas3_2.to_csv(filepath)"
      ],
      "metadata": {
        "id": "4oPIfFBp-_u_"
      },
      "execution_count": null,
      "outputs": []
    },
    {
      "cell_type": "code",
      "source": [
        "############Returnök számolása"
      ],
      "metadata": {
        "id": "f3tMaemtbpdD"
      },
      "execution_count": null,
      "outputs": []
    },
    {
      "cell_type": "code",
      "source": [
        "df_suly3_2=megoldas3_2[['x1','x2','x3','x4','x5']]\n",
        "sulyarray2=[]\n",
        "for i in range(len(df_suly1_2['x1'])):\n",
        "  sulyarray2.append([])\n",
        "  for j in range(5):\n",
        "    sulyarray2[i].append(df_suly1_2[df_suly1_2.columns[j]][i])\n",
        "  sulyarray2[i]=np.array(sulyarray[i])"
      ],
      "metadata": {
        "id": "8CGjxfEEbK-u"
      },
      "execution_count": null,
      "outputs": []
    },
    {
      "cell_type": "code",
      "source": [
        "#Ellenőrzés\n",
        "print(sulyarray2[1])"
      ],
      "metadata": {
        "id": "IG8aUWXVbOpl"
      },
      "execution_count": null,
      "outputs": []
    },
    {
      "cell_type": "code",
      "source": [
        "gordreturn_dd=pd.DataFrame(columns={'return'})\n",
        "gordreturn_dd['return']=np.zeros(len(df_suly3_2['x1']))"
      ],
      "metadata": {
        "id": "AzkJv1vNcXMi"
      },
      "execution_count": null,
      "outputs": []
    },
    {
      "cell_type": "code",
      "source": [
        "#A returnök kiszámolása a csúszóablakos módszernél\n",
        "gordreturn_dd['return']=np.zeros(len(megoldas3_2['x1']))\n",
        "for i in range(len(megoldas3_2['x1'])):  \n",
        "  gordreturn_dd['return'][i]=minden(df_hozam_gsh[i:(i+5*252)],sulyarray[i])[0] #Itt is átlaghozamokat számolunk, hogy tudjuk ábrázolni\n",
        "  #df_ret[df_ret.columns[1]]*megoldas1_2['x1'][i] #pbj #az index 1-nél indul, mert a 0. az yc\n",
        "  "
      ],
      "metadata": {
        "id": "54Xzg3hecK3l"
      },
      "execution_count": null,
      "outputs": []
    },
    {
      "cell_type": "code",
      "source": [
        "#Dátum beállítása\n",
        "gordreturn_dd['Date']=np.zeros\n",
        "for i in range(len(gordreturn_dd)):\n",
        "  gordreturn_dd['Date'][i]=df_bil['Date'][200+i]\n",
        "print(gordreturn_dd.head(4))\n",
        "#gordreturn_dd.index = pd.to_datetime(gordreturn_dd.index)"
      ],
      "metadata": {
        "id": "MjSLkymCdEyb"
      },
      "execution_count": null,
      "outputs": []
    },
    {
      "cell_type": "code",
      "source": [
        "gordreturn_dd=gordreturn_dd.set_index('Date')\n"
      ],
      "metadata": {
        "id": "wAO_I-DNiHrz"
      },
      "execution_count": null,
      "outputs": []
    },
    {
      "cell_type": "code",
      "source": [
        "#'gordreturn_dd['Date']=df_bil['Date'][200:250]\n",
        "print(gordreturn_dd)"
      ],
      "metadata": {
        "id": "hPB-5ol5hOPC"
      },
      "execution_count": null,
      "outputs": []
    },
    {
      "cell_type": "code",
      "source": [
        "gordreturn_dd['return'].plot()\n"
      ],
      "metadata": {
        "id": "1Cs9d7d1c8_E"
      },
      "execution_count": null,
      "outputs": []
    },
    {
      "cell_type": "code",
      "source": [
        "#hozamdf(df_hozam2[(start+k):(start+5*252+k)],df_ret,ww)"
      ],
      "metadata": {
        "id": "44yo-L40bcuB"
      },
      "execution_count": null,
      "outputs": []
    },
    {
      "cell_type": "markdown",
      "metadata": {
        "id": "RlBFgHTxD6Ko"
      },
      "source": [
        "##Példa a minimalizálásra\n",
        "\n",
        "https://docs.scipy.org/doc/scipy/reference/generated/scipy.optimize.minimize.html"
      ]
    },
    {
      "cell_type": "code",
      "execution_count": null,
      "metadata": {
        "id": "k6-dWYkh707l"
      },
      "outputs": [],
      "source": [
        "fun = lambda x: (x[0] - 1)**2 + (x[1] - 2.5)**2\n",
        "\n",
        "bnds = ((0, None), (0, None))\n",
        "\n",
        "cons = ({'type': 'ineq', 'fun': lambda x:  x[0] - 2 * x[1] + 2},\n",
        "        {'type': 'ineq', 'fun': lambda x: -x[0] - 2 * x[1] + 6},\n",
        "        {'type': 'ineq', 'fun': lambda x: -x[0] + 2 * x[1] + 2})\n",
        "\n",
        "res = scipy.optimize.minimize(fun, (2, 0), method='SLSQP', bounds=bnds,\n",
        "               constraints=cons)"
      ]
    },
    {
      "cell_type": "code",
      "execution_count": null,
      "metadata": {
        "id": "0MgsDZ_rAmbk"
      },
      "outputs": [],
      "source": [
        "res"
      ]
    },
    {
      "cell_type": "code",
      "execution_count": null,
      "metadata": {
        "id": "DV2DK-aTA_sQ"
      },
      "outputs": [],
      "source": []
    },
    {
      "cell_type": "markdown",
      "source": [
        "# Ábrák"
      ],
      "metadata": {
        "id": "rcGYXaMFXo7Q"
      }
    },
    {
      "cell_type": "code",
      "execution_count": null,
      "metadata": {
        "id": "uRx7th4bAHsk"
      },
      "outputs": [],
      "source": [
        "plt.figure(figsize=(12, 9))\n",
        "plt.suptitle('amerikai kincstári értékpapírok piaci hozama 3 hónapos állandó lejáraton')\n",
        "df_hozam['yc'].plot()\n",
        "plt.ylabel('Hozam')\n",
        "plt.xlabel('Dátum')\n",
        "plt.savefig(\"yc_hozam.png\") \n",
        "plt.show()"
      ]
    },
    {
      "cell_type": "code",
      "source": [
        "df_hozam.plot( y=['dbe','pbj','bil','qqq', 'xlb'], figsize=(12,9))\n",
        "plt.suptitle('Portfolió eszközök ára')\n",
        "plt.ylabel('Korrigált záróár')\n",
        "plt.xlabel('Dátum')\n",
        "plt.savefig(\"assets-adjclose.png\") \n",
        "plt.show()"
      ],
      "metadata": {
        "id": "uVS1Uo8aUmac"
      },
      "execution_count": null,
      "outputs": []
    },
    {
      "cell_type": "code",
      "source": [
        "df_ret.head(50)\n",
        "df_ret.plot( y=['dbe','pbj','bil','qqq', 'xlb'], figsize=(12,9))\n",
        "plt.suptitle('Portfolió eszközök ára')\n",
        "plt.ylabel('Megtérülés')\n",
        "plt.xlabel('Dátum')\n",
        "plt.savefig(\"assets-return.png\") \n",
        "plt.show()\n"
      ],
      "metadata": {
        "id": "hthTbi36Umez"
      },
      "execution_count": null,
      "outputs": []
    },
    {
      "cell_type": "code",
      "source": [
        "plt.figure(figsize=(12, 9))\n",
        "plt.suptitle('Kockázatmentes')\n",
        "df_ret['yc'].plot()\n",
        "plt.ylabel('Hozam')\n",
        "plt.xlabel('Dátum')\n",
        "plt.savefig(\"yc_return.png\") \n",
        "plt.show()"
      ],
      "metadata": {
        "id": "XBnC4G65UmhA"
      },
      "execution_count": null,
      "outputs": []
    },
    {
      "cell_type": "code",
      "source": [],
      "metadata": {
        "id": "4xHrLBNNUmlE"
      },
      "execution_count": null,
      "outputs": []
    }
  ],
  "metadata": {
    "colab": {
      "collapsed_sections": [
        "pCA8D4HxG2Y5",
        "2Enq7OFU2WLg",
        "RlBFgHTxD6Ko"
      ],
      "provenance": [],
      "include_colab_link": true
    },
    "kernelspec": {
      "display_name": "Python 3",
      "name": "python3"
    },
    "language_info": {
      "name": "python"
    }
  },
  "nbformat": 4,
  "nbformat_minor": 0
}